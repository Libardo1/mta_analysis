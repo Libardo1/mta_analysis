{
 "metadata": {
  "name": "night_turnstiles"
 },
 "nbformat": 3,
 "nbformat_minor": 0,
 "worksheets": [
  {
   "cells": [
    {
     "cell_type": "code",
     "collapsed": false,
     "input": "from __future__ import division\nimport csv\nimport pycurl\nimport matplotlib.pyplot as plt\nimport datetime\nfrom fractions import Fraction\nimport numpy as np\n\n%matplotlib inline",
     "language": "python",
     "metadata": {},
     "outputs": [],
     "prompt_number": 38
    },
    {
     "cell_type": "code",
     "collapsed": false,
     "input": "\n#week: mon, tues, wed\n#weekend: fri, sat\n#time: 16----00----04\n#       0    v1    v2\n\n#Set initial variables\nAM = 4\nPM = 20\nMONDAY = 0\nTUESDAY = 1\nWEDNESDAY = 2\nFRIDAY = 4\nSATURDAY = 5\n\nmorning = datetime.time(AM, 0)\nevening = datetime.time(PM, 0)\n",
     "language": "python",
     "metadata": {},
     "outputs": [],
     "prompt_number": 4
    },
    {
     "cell_type": "code",
     "collapsed": false,
     "input": "'''\n# Download data from MTA website\ndef download_data(m, day1, maxday):\n    url = \"http://web.mta.info/developers/\"\n    path = \"data/nyct/turnstile/\"\n    month = m\n    day = day1\n    response = urllib2.urlopen(url).read()\n    while day <= maxday:\n        filename = month+ \"%02d.txt\" %day\n        with open(filename, \"wb\") as f:\n            curl = pycurl.Curl()\n            curl.setopt(pycurl.URL, url+path+filename)\n            curl.setopt(pycurl.WRITEDATA, f)\n            curl.perform()\n            curl.close()\n        day += 7\n'''",
     "language": "python",
     "metadata": {},
     "outputs": [
      {
       "metadata": {},
       "output_type": "pyout",
       "prompt_number": 5,
       "text": "'\\n# Download data from MTA website\\ndef download_data(m, day1, maxday):\\n    url = \"http://web.mta.info/developers/\"\\n    path = \"data/nyct/turnstile/\"\\n    month = m\\n    day = day1\\n    response = urllib2.urlopen(url).read()\\n    while day <= maxday:\\n        filename = month+ \"%02d.txt\" %day\\n        with open(filename, \"wb\") as f:\\n            curl = pycurl.Curl()\\n            curl.setopt(pycurl.URL, url+path+filename)\\n            curl.setopt(pycurl.WRITEDATA, f)\\n            curl.perform()\\n            curl.close()\\n        day += 7\\n'"
      }
     ],
     "prompt_number": 5
    },
    {
     "cell_type": "code",
     "collapsed": false,
     "input": "# Generate all MTA data file names\ndef filelist():\n    month_list = [\"turnstile_1504\", \"turnstile_1505\", \"turnstile_1506\"]\n    start_list = [4, 2, 6]\n    end_list = [30, 31, 30]\n    file_list = []\n    for m in range(len(month_list)):\n        day = start_list[m]\n        while day <= end_list[m]:\n            filename = month_list[m] + \"%02d.txt\" %day\n            file_list.append(filename)\n            day += 7\n    return file_list",
     "language": "python",
     "metadata": {},
     "outputs": [],
     "prompt_number": 6
    },
    {
     "cell_type": "code",
     "collapsed": false,
     "input": "filelist()",
     "language": "python",
     "metadata": {},
     "outputs": [
      {
       "metadata": {},
       "output_type": "pyout",
       "prompt_number": 7,
       "text": "['turnstile_150404.txt',\n 'turnstile_150411.txt',\n 'turnstile_150418.txt',\n 'turnstile_150425.txt',\n 'turnstile_150502.txt',\n 'turnstile_150509.txt',\n 'turnstile_150516.txt',\n 'turnstile_150523.txt',\n 'turnstile_150530.txt',\n 'turnstile_150606.txt',\n 'turnstile_150613.txt',\n 'turnstile_150620.txt',\n 'turnstile_150627.txt']"
      }
     ],
     "prompt_number": 7
    },
    {
     "cell_type": "code",
     "collapsed": false,
     "input": "def read_csv(filename):\n    '''takes name of csv file, including extension'''\n    #C/A,UNIT,SCP,STATION,LINENAME,DIVISION,DATE,TIME,DESC,ENTRIES,EXITS\n    data = {}\n\n    with open(filename) as f:\n        reader = csv.reader(f, skipinitialspace=True, delimiter=\",\")\n        has_header = csv.Sniffer().has_header(f.read(1024))\n        f.seek(0) #return to top\n        incsv = csv.reader(f)\n        if has_header:\n            next(incsv)\n            for row in reader:\n                row = [' '.join(x.split()) for x in row] \n                key = tuple(row[:4]) #SCP and Station\n                val = [row[6], row[7], row[10]] #date, time, exits\n                if key not in data:\n                    data[key] = [val]\n                else:\n                    data[key].append(val)\n    return data",
     "language": "python",
     "metadata": {},
     "outputs": [],
     "prompt_number": 87
    },
    {
     "cell_type": "code",
     "collapsed": false,
     "input": "#len(read_csv(filelist()).items())",
     "language": "python",
     "metadata": {},
     "outputs": [],
     "prompt_number": 77
    },
    {
     "cell_type": "code",
     "collapsed": false,
     "input": "# Combine several week's data\ndef combine_weeks(files):\n    d = {}\n    dictlist = []\n    for f in files:\n        di = read_csv(f)\n        dictlist.append(di)\n    for dl in dictlist:\n        for key in dl:\n            if key in d:\n                d[key] += dl[key]\n            else:\n                d[key] = dl[key]\n    return d\n\nfull_dict = combine_weeks(filelist())",
     "language": "python",
     "metadata": {},
     "outputs": [],
     "prompt_number": 88
    },
    {
     "cell_type": "code",
     "collapsed": false,
     "input": "full_dict.items()[0]\nlen(full_dict.items())",
     "language": "python",
     "metadata": {},
     "outputs": [
      {
       "metadata": {},
       "output_type": "pyout",
       "prompt_number": 89,
       "text": "4583"
      }
     ],
     "prompt_number": 89
    },
    {
     "cell_type": "code",
     "collapsed": false,
     "input": "morning",
     "language": "python",
     "metadata": {},
     "outputs": [
      {
       "metadata": {},
       "output_type": "pyout",
       "prompt_number": 90,
       "text": "datetime.time(4, 0)"
      }
     ],
     "prompt_number": 90
    },
    {
     "cell_type": "code",
     "collapsed": false,
     "input": "evening",
     "language": "python",
     "metadata": {},
     "outputs": [
      {
       "metadata": {},
       "output_type": "pyout",
       "prompt_number": 91,
       "text": "datetime.time(20, 0)"
      }
     ],
     "prompt_number": 91
    },
    {
     "cell_type": "code",
     "collapsed": false,
     "input": "def filter_timespan(date_time):\n    if date_time.time() <= morning or datetime.time() > evening :\n        time_outlier = False\n    else:\n        time_outlier = True\n    return time_outlier",
     "language": "python",
     "metadata": {},
     "outputs": [],
     "prompt_number": 92
    },
    {
     "cell_type": "code",
     "collapsed": false,
     "input": "def adjust_night(date_time):\n    \"\"\"adjust 0-4 times to belong to the previous day\"\"\"\n    if date_time.time() <= morning:\n        date_time -= datetime.timedelta(days=1)\n    return date_time",
     "language": "python",
     "metadata": {},
     "outputs": [],
     "prompt_number": 93
    },
    {
     "cell_type": "code",
     "collapsed": false,
     "input": "#Challenge 2 \ndef combine_datetime(data, count_in=2):\n    '''takes dictionary, data, converts to datetime, and get count deltas'''\n    #csv format: [,,06/20/2015, 00:00:00,,entries,]\n    date_time = {}\n    outlier = False\n    for key in data:\n        temp = data[key]\n        temp.sort()\n        for x in range(len(temp)):\n            d_t_string = \" \".join(temp[x][:2])\n            d_t = datetime.datetime.strptime(d_t_string,\"%m/%d/%Y %H:%M:%S\")\n            d_t = adjust_night(d_t)\n            time_outlier = filter_timespan(d_t)\n            if x > 0:\n                count = int(temp[x][count_in]) - int(temp[x-1][count_in])\n                val = [d_t, count]\n                if count < 0 or count > 5000:\n                    outlier = True\n            else:\n                 val = [d_t, 0]\n            # clean data\n            if not outlier and not time_outlier:\n                if key not in date_time:\n                    date_time[key] = [val]\n                else:\n                    date_time[key].append(val)\n            outlier = False\n    return date_time\n\ncleaned_dict = combine_datetime(full_dict)",
     "language": "python",
     "metadata": {},
     "outputs": [],
     "prompt_number": 94
    },
    {
     "cell_type": "code",
     "collapsed": false,
     "input": "cleaned_dict.items()[0]",
     "language": "python",
     "metadata": {},
     "outputs": [
      {
       "metadata": {},
       "output_type": "pyout",
       "prompt_number": 95,
       "text": "(('A030', 'R083', '01-06-00', '23 ST-5 AVE'),\n [[datetime.datetime(2015, 3, 27, 0, 0), 0],\n  [datetime.datetime(2015, 3, 27, 4, 0), 12],\n  [datetime.datetime(2015, 3, 28, 0, 0), 79],\n  [datetime.datetime(2015, 3, 28, 4, 0), 23],\n  [datetime.datetime(2015, 3, 29, 0, 0), 32],\n  [datetime.datetime(2015, 3, 29, 4, 0), 1],\n  [datetime.datetime(2015, 3, 30, 0, 0), 50],\n  [datetime.datetime(2015, 3, 30, 4, 0), 4],\n  [datetime.datetime(2015, 3, 31, 0, 0), 48],\n  [datetime.datetime(2015, 3, 31, 4, 0), 0],\n  [datetime.datetime(2015, 4, 1, 0, 0), 62],\n  [datetime.datetime(2015, 4, 1, 4, 0), 4],\n  [datetime.datetime(2015, 4, 2, 0, 0), 64],\n  [datetime.datetime(2015, 4, 2, 4, 0), 11],\n  [datetime.datetime(2015, 4, 3, 0, 0), 75],\n  [datetime.datetime(2015, 4, 3, 4, 0), 16],\n  [datetime.datetime(2015, 4, 4, 0, 0), 69],\n  [datetime.datetime(2015, 4, 4, 4, 0), 12],\n  [datetime.datetime(2015, 4, 5, 0, 0), 29],\n  [datetime.datetime(2015, 4, 5, 4, 0), 1],\n  [datetime.datetime(2015, 4, 6, 0, 0), 43],\n  [datetime.datetime(2015, 4, 6, 4, 0), 2],\n  [datetime.datetime(2015, 4, 7, 0, 0), 63],\n  [datetime.datetime(2015, 4, 7, 4, 0), 4],\n  [datetime.datetime(2015, 4, 8, 0, 0), 60],\n  [datetime.datetime(2015, 4, 8, 4, 0), 6],\n  [datetime.datetime(2015, 4, 9, 0, 0), 65],\n  [datetime.datetime(2015, 4, 9, 4, 0), 1],\n  [datetime.datetime(2015, 4, 10, 0, 0), 73],\n  [datetime.datetime(2015, 4, 10, 4, 0), 15],\n  [datetime.datetime(2015, 4, 11, 0, 0), 88],\n  [datetime.datetime(2015, 4, 11, 4, 0), 6],\n  [datetime.datetime(2015, 4, 12, 0, 0), 29],\n  [datetime.datetime(2015, 4, 12, 4, 0), 6],\n  [datetime.datetime(2015, 4, 13, 0, 0), 53],\n  [datetime.datetime(2015, 4, 13, 4, 0), 2],\n  [datetime.datetime(2015, 4, 14, 0, 0), 55],\n  [datetime.datetime(2015, 4, 14, 4, 0), 2],\n  [datetime.datetime(2015, 4, 15, 0, 0), 47],\n  [datetime.datetime(2015, 4, 15, 4, 0), 9],\n  [datetime.datetime(2015, 4, 16, 0, 0), 68],\n  [datetime.datetime(2015, 4, 16, 4, 0), 4],\n  [datetime.datetime(2015, 4, 17, 0, 0), 100],\n  [datetime.datetime(2015, 4, 17, 4, 0), 22],\n  [datetime.datetime(2015, 4, 18, 0, 0), 102],\n  [datetime.datetime(2015, 4, 18, 4, 0), 28],\n  [datetime.datetime(2015, 4, 19, 0, 0), 55],\n  [datetime.datetime(2015, 4, 19, 4, 0), 1],\n  [datetime.datetime(2015, 4, 20, 0, 0), 64],\n  [datetime.datetime(2015, 4, 20, 4, 0), 3],\n  [datetime.datetime(2015, 4, 21, 0, 0), 60],\n  [datetime.datetime(2015, 4, 21, 4, 0), 4],\n  [datetime.datetime(2015, 4, 22, 0, 0), 54],\n  [datetime.datetime(2015, 4, 22, 4, 0), 7],\n  [datetime.datetime(2015, 4, 23, 0, 0), 67],\n  [datetime.datetime(2015, 4, 23, 4, 0), 6],\n  [datetime.datetime(2015, 4, 24, 0, 0), 94],\n  [datetime.datetime(2015, 4, 24, 4, 0), 9],\n  [datetime.datetime(2015, 4, 25, 0, 0), 83],\n  [datetime.datetime(2015, 4, 25, 4, 0), 25],\n  [datetime.datetime(2015, 4, 26, 0, 0), 35],\n  [datetime.datetime(2015, 4, 26, 4, 0), 1],\n  [datetime.datetime(2015, 4, 27, 0, 0), 57],\n  [datetime.datetime(2015, 4, 27, 4, 0), 2],\n  [datetime.datetime(2015, 4, 28, 0, 0), 53],\n  [datetime.datetime(2015, 4, 28, 4, 0), 3],\n  [datetime.datetime(2015, 4, 29, 0, 0), 69],\n  [datetime.datetime(2015, 4, 29, 4, 0), 10],\n  [datetime.datetime(2015, 4, 30, 0, 0), 68],\n  [datetime.datetime(2015, 4, 30, 4, 0), 6],\n  [datetime.datetime(2015, 5, 1, 0, 0), 83],\n  [datetime.datetime(2015, 5, 1, 4, 0), 15],\n  [datetime.datetime(2015, 5, 2, 0, 0), 93],\n  [datetime.datetime(2015, 5, 2, 4, 0), 24],\n  [datetime.datetime(2015, 5, 3, 0, 0), 79],\n  [datetime.datetime(2015, 5, 3, 4, 0), 3],\n  [datetime.datetime(2015, 5, 4, 0, 0), 67],\n  [datetime.datetime(2015, 5, 4, 4, 0), 4],\n  [datetime.datetime(2015, 5, 5, 0, 0), 62],\n  [datetime.datetime(2015, 5, 5, 4, 0), 9],\n  [datetime.datetime(2015, 5, 6, 0, 0), 179],\n  [datetime.datetime(2015, 5, 6, 4, 0), 20],\n  [datetime.datetime(2015, 5, 7, 0, 0), 197],\n  [datetime.datetime(2015, 5, 7, 4, 0), 25],\n  [datetime.datetime(2015, 5, 8, 0, 0), 237],\n  [datetime.datetime(2015, 5, 8, 4, 0), 63],\n  [datetime.datetime(2015, 5, 9, 0, 0), 207],\n  [datetime.datetime(2015, 5, 9, 4, 0), 50],\n  [datetime.datetime(2015, 5, 12, 0, 0), 83],\n  [datetime.datetime(2015, 5, 12, 4, 0), 3],\n  [datetime.datetime(2015, 5, 13, 0, 0), 66],\n  [datetime.datetime(2015, 5, 13, 4, 0), 3],\n  [datetime.datetime(2015, 5, 14, 0, 0), 80],\n  [datetime.datetime(2015, 5, 14, 4, 0), 6],\n  [datetime.datetime(2015, 5, 15, 0, 0), 100],\n  [datetime.datetime(2015, 5, 15, 4, 0), 9],\n  [datetime.datetime(2015, 5, 16, 0, 0), 95],\n  [datetime.datetime(2015, 5, 16, 4, 0), 17],\n  [datetime.datetime(2015, 5, 17, 0, 0), 54],\n  [datetime.datetime(2015, 5, 17, 4, 0), 6],\n  [datetime.datetime(2015, 5, 18, 0, 0), 66],\n  [datetime.datetime(2015, 5, 18, 4, 0), 5],\n  [datetime.datetime(2015, 5, 19, 0, 0), 62],\n  [datetime.datetime(2015, 5, 19, 4, 0), 5],\n  [datetime.datetime(2015, 5, 20, 0, 0), 73],\n  [datetime.datetime(2015, 5, 20, 4, 0), 6],\n  [datetime.datetime(2015, 5, 21, 0, 0), 72],\n  [datetime.datetime(2015, 5, 21, 4, 0), 5],\n  [datetime.datetime(2015, 5, 22, 0, 0), 94],\n  [datetime.datetime(2015, 5, 22, 4, 0), 12],\n  [datetime.datetime(2015, 5, 23, 0, 0), 72],\n  [datetime.datetime(2015, 5, 23, 4, 0), 12],\n  [datetime.datetime(2015, 5, 24, 0, 0), 64],\n  [datetime.datetime(2015, 5, 24, 4, 0), 10],\n  [datetime.datetime(2015, 5, 25, 0, 0), 42],\n  [datetime.datetime(2015, 5, 25, 4, 0), 1],\n  [datetime.datetime(2015, 5, 26, 0, 0), 81],\n  [datetime.datetime(2015, 5, 26, 4, 0), 8],\n  [datetime.datetime(2015, 5, 27, 0, 0), 61],\n  [datetime.datetime(2015, 5, 27, 4, 0), 7],\n  [datetime.datetime(2015, 5, 28, 0, 0), 50],\n  [datetime.datetime(2015, 5, 28, 4, 0), 12],\n  [datetime.datetime(2015, 5, 29, 0, 0), 79],\n  [datetime.datetime(2015, 5, 29, 4, 0), 22],\n  [datetime.datetime(2015, 5, 30, 0, 0), 100],\n  [datetime.datetime(2015, 5, 30, 4, 0), 16],\n  [datetime.datetime(2015, 5, 31, 0, 0), 29],\n  [datetime.datetime(2015, 5, 31, 4, 0), 2],\n  [datetime.datetime(2015, 6, 1, 0, 0), 59],\n  [datetime.datetime(2015, 6, 1, 4, 0), 7],\n  [datetime.datetime(2015, 6, 2, 0, 0), 86],\n  [datetime.datetime(2015, 6, 2, 4, 0), 21],\n  [datetime.datetime(2015, 6, 3, 0, 0), 80],\n  [datetime.datetime(2015, 6, 3, 4, 0), 17],\n  [datetime.datetime(2015, 6, 4, 0, 0), 92],\n  [datetime.datetime(2015, 6, 4, 4, 0), 3],\n  [datetime.datetime(2015, 6, 5, 0, 0), 83],\n  [datetime.datetime(2015, 6, 5, 4, 0), 16],\n  [datetime.datetime(2015, 6, 6, 0, 0), 82],\n  [datetime.datetime(2015, 6, 6, 4, 0), 10],\n  [datetime.datetime(2015, 6, 7, 0, 0), 59],\n  [datetime.datetime(2015, 6, 7, 4, 0), 8],\n  [datetime.datetime(2015, 6, 8, 0, 0), 56],\n  [datetime.datetime(2015, 6, 8, 4, 0), 3],\n  [datetime.datetime(2015, 6, 9, 0, 0), 48],\n  [datetime.datetime(2015, 6, 9, 4, 0), 1],\n  [datetime.datetime(2015, 6, 10, 0, 0), 71],\n  [datetime.datetime(2015, 6, 10, 4, 0), 7],\n  [datetime.datetime(2015, 6, 11, 0, 0), 82],\n  [datetime.datetime(2015, 6, 11, 4, 0), 4],\n  [datetime.datetime(2015, 6, 12, 0, 0), 120],\n  [datetime.datetime(2015, 6, 12, 4, 0), 9],\n  [datetime.datetime(2015, 6, 13, 0, 0), 113],\n  [datetime.datetime(2015, 6, 13, 4, 0), 15],\n  [datetime.datetime(2015, 6, 14, 0, 0), 48],\n  [datetime.datetime(2015, 6, 14, 4, 0), 3],\n  [datetime.datetime(2015, 6, 15, 0, 0), 72],\n  [datetime.datetime(2015, 6, 15, 4, 0), 4],\n  [datetime.datetime(2015, 6, 16, 0, 0), 57],\n  [datetime.datetime(2015, 6, 16, 4, 0), 4],\n  [datetime.datetime(2015, 6, 17, 0, 0), 64],\n  [datetime.datetime(2015, 6, 17, 4, 0), 5],\n  [datetime.datetime(2015, 6, 18, 0, 0), 67],\n  [datetime.datetime(2015, 6, 18, 4, 0), 6],\n  [datetime.datetime(2015, 6, 19, 0, 0), 127],\n  [datetime.datetime(2015, 6, 19, 4, 0), 13],\n  [datetime.datetime(2015, 6, 20, 0, 0), 44],\n  [datetime.datetime(2015, 6, 20, 4, 0), 9],\n  [datetime.datetime(2015, 6, 21, 0, 0), 46],\n  [datetime.datetime(2015, 6, 21, 4, 0), 3],\n  [datetime.datetime(2015, 6, 22, 0, 0), 62],\n  [datetime.datetime(2015, 6, 22, 4, 0), 4],\n  [datetime.datetime(2015, 6, 23, 0, 0), 67],\n  [datetime.datetime(2015, 6, 23, 4, 0), 7],\n  [datetime.datetime(2015, 6, 24, 0, 0), 79],\n  [datetime.datetime(2015, 6, 24, 4, 0), 0],\n  [datetime.datetime(2015, 6, 25, 0, 0), 79],\n  [datetime.datetime(2015, 6, 25, 4, 0), 4]])"
      }
     ],
     "prompt_number": 95
    },
    {
     "cell_type": "code",
     "collapsed": false,
     "input": "def combine_days(data, date_bool=False):\n    day_counts = {}\n    for turnstile, rows in data.items():\n        by_day = {}\n        for time, count in rows:\n            if not date_bool:\n                day = time\n            else:\n                day = time.date()\n            by_day[day] = by_day.get(day, 0) + count\n        day_counts[turnstile] = sorted(by_day.items())\n    return day_counts\n\nnight_counts = combine_days(cleaned_dict)",
     "language": "python",
     "metadata": {},
     "outputs": [],
     "prompt_number": 108
    },
    {
     "cell_type": "code",
     "collapsed": false,
     "input": "night_counts.items()[0]",
     "language": "python",
     "metadata": {},
     "outputs": [
      {
       "metadata": {},
       "output_type": "pyout",
       "prompt_number": 102,
       "text": "(('A030', 'R083', '01-06-00', '23 ST-5 AVE'),\n [(datetime.date(2015, 3, 27), 12),\n  (datetime.date(2015, 3, 28), 102),\n  (datetime.date(2015, 3, 29), 33),\n  (datetime.date(2015, 3, 30), 54),\n  (datetime.date(2015, 3, 31), 48),\n  (datetime.date(2015, 4, 1), 66),\n  (datetime.date(2015, 4, 2), 75),\n  (datetime.date(2015, 4, 3), 91),\n  (datetime.date(2015, 4, 4), 81),\n  (datetime.date(2015, 4, 5), 30),\n  (datetime.date(2015, 4, 6), 45),\n  (datetime.date(2015, 4, 7), 67),\n  (datetime.date(2015, 4, 8), 66),\n  (datetime.date(2015, 4, 9), 66),\n  (datetime.date(2015, 4, 10), 88),\n  (datetime.date(2015, 4, 11), 94),\n  (datetime.date(2015, 4, 12), 35),\n  (datetime.date(2015, 4, 13), 55),\n  (datetime.date(2015, 4, 14), 57),\n  (datetime.date(2015, 4, 15), 56),\n  (datetime.date(2015, 4, 16), 72),\n  (datetime.date(2015, 4, 17), 122),\n  (datetime.date(2015, 4, 18), 130),\n  (datetime.date(2015, 4, 19), 56),\n  (datetime.date(2015, 4, 20), 67),\n  (datetime.date(2015, 4, 21), 64),\n  (datetime.date(2015, 4, 22), 61),\n  (datetime.date(2015, 4, 23), 73),\n  (datetime.date(2015, 4, 24), 103),\n  (datetime.date(2015, 4, 25), 108),\n  (datetime.date(2015, 4, 26), 36),\n  (datetime.date(2015, 4, 27), 59),\n  (datetime.date(2015, 4, 28), 56),\n  (datetime.date(2015, 4, 29), 79),\n  (datetime.date(2015, 4, 30), 74),\n  (datetime.date(2015, 5, 1), 98),\n  (datetime.date(2015, 5, 2), 117),\n  (datetime.date(2015, 5, 3), 82),\n  (datetime.date(2015, 5, 4), 71),\n  (datetime.date(2015, 5, 5), 71),\n  (datetime.date(2015, 5, 6), 199),\n  (datetime.date(2015, 5, 7), 222),\n  (datetime.date(2015, 5, 8), 300),\n  (datetime.date(2015, 5, 9), 257),\n  (datetime.date(2015, 5, 12), 86),\n  (datetime.date(2015, 5, 13), 69),\n  (datetime.date(2015, 5, 14), 86),\n  (datetime.date(2015, 5, 15), 109),\n  (datetime.date(2015, 5, 16), 112),\n  (datetime.date(2015, 5, 17), 60),\n  (datetime.date(2015, 5, 18), 71),\n  (datetime.date(2015, 5, 19), 67),\n  (datetime.date(2015, 5, 20), 79),\n  (datetime.date(2015, 5, 21), 77),\n  (datetime.date(2015, 5, 22), 106),\n  (datetime.date(2015, 5, 23), 84),\n  (datetime.date(2015, 5, 24), 74),\n  (datetime.date(2015, 5, 25), 43),\n  (datetime.date(2015, 5, 26), 89),\n  (datetime.date(2015, 5, 27), 68),\n  (datetime.date(2015, 5, 28), 62),\n  (datetime.date(2015, 5, 29), 101),\n  (datetime.date(2015, 5, 30), 116),\n  (datetime.date(2015, 5, 31), 31),\n  (datetime.date(2015, 6, 1), 66),\n  (datetime.date(2015, 6, 2), 107),\n  (datetime.date(2015, 6, 3), 97),\n  (datetime.date(2015, 6, 4), 95),\n  (datetime.date(2015, 6, 5), 99),\n  (datetime.date(2015, 6, 6), 92),\n  (datetime.date(2015, 6, 7), 67),\n  (datetime.date(2015, 6, 8), 59),\n  (datetime.date(2015, 6, 9), 49),\n  (datetime.date(2015, 6, 10), 78),\n  (datetime.date(2015, 6, 11), 86),\n  (datetime.date(2015, 6, 12), 129),\n  (datetime.date(2015, 6, 13), 128),\n  (datetime.date(2015, 6, 14), 51),\n  (datetime.date(2015, 6, 15), 76),\n  (datetime.date(2015, 6, 16), 61),\n  (datetime.date(2015, 6, 17), 69),\n  (datetime.date(2015, 6, 18), 73),\n  (datetime.date(2015, 6, 19), 140),\n  (datetime.date(2015, 6, 20), 53),\n  (datetime.date(2015, 6, 21), 49),\n  (datetime.date(2015, 6, 22), 66),\n  (datetime.date(2015, 6, 23), 74),\n  (datetime.date(2015, 6, 24), 79),\n  (datetime.date(2015, 6, 25), 83)])"
      }
     ],
     "prompt_number": 102
    },
    {
     "cell_type": "code",
     "collapsed": false,
     "input": "def combine_terminals(data, key_bool=False):\n    all_terminals = {}\n    for key, value in data.items():\n        if key_bool == True:\n            key_args = [key[0], key[1], key[3]]\n            new_key = tuple(key_args)\n        else:\n            new_key = key[2]\n            \n        if new_key in all_terminals:\n            all_terminals[new_key] = all_terminals[new_key] + value\n        else:\n            all_terminals[new_key] = value\n    all_terminals = combine_days(all_terminals)\n    return all_terminals\n\nno_scp = combine_terminals(night_counts, True)\nstations_only = combine_terminals(no_scp, False)",
     "language": "python",
     "metadata": {},
     "outputs": [],
     "prompt_number": 111
    },
    {
     "cell_type": "code",
     "collapsed": false,
     "input": "stations_only['LEXINGTON AVE']",
     "language": "python",
     "metadata": {},
     "outputs": [
      {
       "metadata": {},
       "output_type": "pyout",
       "prompt_number": 112,
       "text": "[(datetime.datetime(2015, 3, 27, 0, 0), 0),\n (datetime.datetime(2015, 3, 27, 4, 0), 443),\n (datetime.datetime(2015, 3, 28, 0, 0), 1728),\n (datetime.datetime(2015, 3, 28, 4, 0), 533),\n (datetime.datetime(2015, 3, 29, 0, 0), 1337),\n (datetime.datetime(2015, 3, 29, 4, 0), 224),\n (datetime.datetime(2015, 3, 30, 0, 0), 1813),\n (datetime.datetime(2015, 3, 30, 4, 0), 243),\n (datetime.datetime(2015, 3, 31, 0, 0), 1889),\n (datetime.datetime(2015, 3, 31, 4, 0), 192),\n (datetime.datetime(2015, 4, 1, 0, 0), 2204),\n (datetime.datetime(2015, 4, 1, 4, 0), 251),\n (datetime.datetime(2015, 4, 2, 0, 0), 2080),\n (datetime.datetime(2015, 4, 2, 4, 0), 356),\n (datetime.datetime(2015, 4, 3, 0, 0), 1518),\n (datetime.datetime(2015, 4, 3, 4, 0), 331),\n (datetime.datetime(2015, 4, 4, 0, 0), 872),\n (datetime.datetime(2015, 4, 4, 4, 0), 263),\n (datetime.datetime(2015, 4, 5, 0, 0), 731),\n (datetime.datetime(2015, 4, 5, 4, 0), 167),\n (datetime.datetime(2015, 4, 6, 0, 0), 1730),\n (datetime.datetime(2015, 4, 6, 4, 0), 276),\n (datetime.datetime(2015, 4, 7, 0, 0), 1724),\n (datetime.datetime(2015, 4, 7, 4, 0), 212),\n (datetime.datetime(2015, 4, 8, 0, 0), 2049),\n (datetime.datetime(2015, 4, 8, 4, 0), 182),\n (datetime.datetime(2015, 4, 9, 0, 0), 1914),\n (datetime.datetime(2015, 4, 9, 4, 0), 284),\n (datetime.datetime(2015, 4, 10, 0, 0), 1636),\n (datetime.datetime(2015, 4, 10, 4, 0), 354),\n (datetime.datetime(2015, 4, 11, 0, 0), 1537),\n (datetime.datetime(2015, 4, 11, 4, 0), 433),\n (datetime.datetime(2015, 4, 12, 0, 0), 1100),\n (datetime.datetime(2015, 4, 12, 4, 0), 183),\n (datetime.datetime(2015, 4, 13, 0, 0), 1449),\n (datetime.datetime(2015, 4, 13, 4, 0), 191),\n (datetime.datetime(2015, 4, 14, 0, 0), 1659),\n (datetime.datetime(2015, 4, 14, 4, 0), 189),\n (datetime.datetime(2015, 4, 15, 0, 0), 1671),\n (datetime.datetime(2015, 4, 15, 4, 0), 158),\n (datetime.datetime(2015, 4, 16, 0, 0), 2068),\n (datetime.datetime(2015, 4, 16, 4, 0), 242),\n (datetime.datetime(2015, 4, 17, 0, 0), 1744),\n (datetime.datetime(2015, 4, 17, 4, 0), 419),\n (datetime.datetime(2015, 4, 18, 0, 0), 1879),\n (datetime.datetime(2015, 4, 18, 4, 0), 478),\n (datetime.datetime(2015, 4, 19, 0, 0), 1205),\n (datetime.datetime(2015, 4, 19, 4, 0), 177),\n (datetime.datetime(2015, 4, 20, 0, 0), 1433),\n (datetime.datetime(2015, 4, 20, 4, 0), 166),\n (datetime.datetime(2015, 4, 21, 0, 0), 1696),\n (datetime.datetime(2015, 4, 21, 4, 0), 198),\n (datetime.datetime(2015, 4, 22, 0, 0), 1643),\n (datetime.datetime(2015, 4, 22, 4, 0), 207),\n (datetime.datetime(2015, 4, 23, 0, 0), 1907),\n (datetime.datetime(2015, 4, 23, 4, 0), 231),\n (datetime.datetime(2015, 4, 24, 0, 0), 1664),\n (datetime.datetime(2015, 4, 24, 4, 0), 365),\n (datetime.datetime(2015, 4, 25, 0, 0), 1682),\n (datetime.datetime(2015, 4, 25, 4, 0), 403),\n (datetime.datetime(2015, 4, 26, 0, 0), 1280),\n (datetime.datetime(2015, 4, 26, 4, 0), 189),\n (datetime.datetime(2015, 4, 27, 0, 0), 1464),\n (datetime.datetime(2015, 4, 27, 4, 0), 178),\n (datetime.datetime(2015, 4, 28, 0, 0), 1628),\n (datetime.datetime(2015, 4, 28, 4, 0), 202),\n (datetime.datetime(2015, 4, 29, 0, 0), 1815),\n (datetime.datetime(2015, 4, 29, 4, 0), 238),\n (datetime.datetime(2015, 4, 30, 0, 0), 1742),\n (datetime.datetime(2015, 4, 30, 4, 0), 235),\n (datetime.datetime(2015, 5, 1, 0, 0), 1744),\n (datetime.datetime(2015, 5, 1, 4, 0), 386),\n (datetime.datetime(2015, 5, 2, 0, 0), 1643),\n (datetime.datetime(2015, 5, 2, 4, 0), 503),\n (datetime.datetime(2015, 5, 3, 0, 0), 1246),\n (datetime.datetime(2015, 5, 3, 4, 0), 194),\n (datetime.datetime(2015, 5, 4, 0, 0), 1561),\n (datetime.datetime(2015, 5, 4, 4, 0), 248),\n (datetime.datetime(2015, 5, 5, 0, 0), 1714),\n (datetime.datetime(2015, 5, 5, 4, 0), 258),\n (datetime.datetime(2015, 5, 6, 0, 0), 1986),\n (datetime.datetime(2015, 5, 6, 4, 0), 171),\n (datetime.datetime(2015, 5, 7, 0, 0), 1844),\n (datetime.datetime(2015, 5, 7, 4, 0), 287),\n (datetime.datetime(2015, 5, 8, 0, 0), 1651),\n (datetime.datetime(2015, 5, 8, 4, 0), 331),\n (datetime.datetime(2015, 5, 9, 0, 0), 1448),\n (datetime.datetime(2015, 5, 9, 4, 0), 342),\n (datetime.datetime(2015, 5, 10, 0, 0), 1330),\n (datetime.datetime(2015, 5, 10, 4, 0), 190),\n (datetime.datetime(2015, 5, 11, 0, 0), 1562),\n (datetime.datetime(2015, 5, 11, 4, 0), 205),\n (datetime.datetime(2015, 5, 12, 0, 0), 1635),\n (datetime.datetime(2015, 5, 12, 4, 0), 212),\n (datetime.datetime(2015, 5, 13, 0, 0), 1787),\n (datetime.datetime(2015, 5, 13, 4, 0), 272),\n (datetime.datetime(2015, 5, 14, 0, 0), 1858),\n (datetime.datetime(2015, 5, 14, 4, 0), 252),\n (datetime.datetime(2015, 5, 15, 0, 0), 1867),\n (datetime.datetime(2015, 5, 15, 4, 0), 408),\n (datetime.datetime(2015, 5, 16, 0, 0), 1693),\n (datetime.datetime(2015, 5, 16, 4, 0), 439),\n (datetime.datetime(2015, 5, 17, 0, 0), 1278),\n (datetime.datetime(2015, 5, 17, 4, 0), 259),\n (datetime.datetime(2015, 5, 18, 0, 0), 1526),\n (datetime.datetime(2015, 5, 18, 4, 0), 245),\n (datetime.datetime(2015, 5, 19, 0, 0), 1819),\n (datetime.datetime(2015, 5, 19, 4, 0), 225),\n (datetime.datetime(2015, 5, 20, 0, 0), 1869),\n (datetime.datetime(2015, 5, 20, 4, 0), 249),\n (datetime.datetime(2015, 5, 21, 0, 0), 1850),\n (datetime.datetime(2015, 5, 21, 4, 0), 230),\n (datetime.datetime(2015, 5, 22, 0, 0), 1604),\n (datetime.datetime(2015, 5, 22, 4, 0), 266),\n (datetime.datetime(2015, 5, 23, 0, 0), 1264),\n (datetime.datetime(2015, 5, 23, 4, 0), 260),\n (datetime.datetime(2015, 5, 24, 0, 0), 1080),\n (datetime.datetime(2015, 5, 24, 4, 0), 203),\n (datetime.datetime(2015, 5, 25, 0, 0), 1015),\n (datetime.datetime(2015, 5, 25, 4, 0), 147),\n (datetime.datetime(2015, 5, 26, 0, 0), 1492),\n (datetime.datetime(2015, 5, 26, 4, 0), 187),\n (datetime.datetime(2015, 5, 27, 0, 0), 1616),\n (datetime.datetime(2015, 5, 27, 4, 0), 226),\n (datetime.datetime(2015, 5, 28, 0, 0), 1757),\n (datetime.datetime(2015, 5, 28, 4, 0), 238),\n (datetime.datetime(2015, 5, 29, 0, 0), 1758),\n (datetime.datetime(2015, 5, 29, 4, 0), 341),\n (datetime.datetime(2015, 5, 30, 0, 0), 1711),\n (datetime.datetime(2015, 5, 30, 4, 0), 429),\n (datetime.datetime(2015, 5, 31, 0, 0), 1002),\n (datetime.datetime(2015, 5, 31, 4, 0), 152),\n (datetime.datetime(2015, 6, 1, 0, 0), 1421),\n (datetime.datetime(2015, 6, 1, 4, 0), 185),\n (datetime.datetime(2015, 6, 2, 0, 0), 1544),\n (datetime.datetime(2015, 6, 2, 4, 0), 232),\n (datetime.datetime(2015, 6, 3, 0, 0), 1749),\n (datetime.datetime(2015, 6, 3, 4, 0), 289),\n (datetime.datetime(2015, 6, 4, 0, 0), 1837),\n (datetime.datetime(2015, 6, 4, 4, 0), 299),\n (datetime.datetime(2015, 6, 5, 0, 0), 1589),\n (datetime.datetime(2015, 6, 5, 4, 0), 458),\n (datetime.datetime(2015, 6, 6, 0, 0), 1266),\n (datetime.datetime(2015, 6, 6, 4, 0), 274),\n (datetime.datetime(2015, 6, 7, 0, 0), 1000),\n (datetime.datetime(2015, 6, 7, 4, 0), 139),\n (datetime.datetime(2015, 6, 8, 0, 0), 1531),\n (datetime.datetime(2015, 6, 8, 4, 0), 199),\n (datetime.datetime(2015, 6, 9, 0, 0), 1710),\n (datetime.datetime(2015, 6, 9, 4, 0), 305),\n (datetime.datetime(2015, 6, 10, 0, 0), 1677),\n (datetime.datetime(2015, 6, 10, 4, 0), 333),\n (datetime.datetime(2015, 6, 11, 0, 0), 1697),\n (datetime.datetime(2015, 6, 11, 4, 0), 345),\n (datetime.datetime(2015, 6, 12, 0, 0), 1661),\n (datetime.datetime(2015, 6, 12, 4, 0), 408),\n (datetime.datetime(2015, 6, 13, 0, 0), 1543),\n (datetime.datetime(2015, 6, 13, 4, 0), 427),\n (datetime.datetime(2015, 6, 14, 0, 0), 1277),\n (datetime.datetime(2015, 6, 14, 4, 0), 220),\n (datetime.datetime(2015, 6, 15, 0, 0), 1577),\n (datetime.datetime(2015, 6, 15, 4, 0), 205),\n (datetime.datetime(2015, 6, 16, 0, 0), 1584),\n (datetime.datetime(2015, 6, 16, 4, 0), 225),\n (datetime.datetime(2015, 6, 17, 0, 0), 1671),\n (datetime.datetime(2015, 6, 17, 4, 0), 224),\n (datetime.datetime(2015, 6, 18, 0, 0), 1655),\n (datetime.datetime(2015, 6, 18, 4, 0), 219),\n (datetime.datetime(2015, 6, 19, 0, 0), 1750),\n (datetime.datetime(2015, 6, 19, 4, 0), 406),\n (datetime.datetime(2015, 6, 20, 0, 0), 1387),\n (datetime.datetime(2015, 6, 20, 4, 0), 370),\n (datetime.datetime(2015, 6, 21, 0, 0), 1520),\n (datetime.datetime(2015, 6, 21, 4, 0), 214),\n (datetime.datetime(2015, 6, 22, 0, 0), 1501),\n (datetime.datetime(2015, 6, 22, 4, 0), 199),\n (datetime.datetime(2015, 6, 23, 0, 0), 1469),\n (datetime.datetime(2015, 6, 23, 4, 0), 204),\n (datetime.datetime(2015, 6, 24, 0, 0), 1782),\n (datetime.datetime(2015, 6, 24, 4, 0), 274),\n (datetime.datetime(2015, 6, 25, 0, 0), 1796),\n (datetime.datetime(2015, 6, 25, 4, 0), 280)]"
      }
     ],
     "prompt_number": 112
    },
    {
     "cell_type": "code",
     "collapsed": false,
     "input": "def separate_weekday(data):\n        weekday_weekend = {}\n        for key in data:\n            weekday_num = 0\n            weekend_num = 0\n            weekday_count = 0\n            weekend_count = 0\n            for night in data[key]:\n                if night[0].weekday() <= WEDNESDAY:\n                    weekday_num += 1\n                    weekday_count += night[1]\n                elif (night[0].weekday() == FRIDAY or \n                      night[0].weekday() == SATURDAY):\n                    weekend_num += 1\n                    weekend_count += night[1]\n            val = [(weekday_num, weekday_count), (weekend_num, weekend_count)]\n            weekday_weekend[key] = val\n        return weekday_weekend\n\nseparate_weekday_weekend = separate_weekday(stations_only)",
     "language": "python",
     "metadata": {},
     "outputs": [],
     "prompt_number": 113
    },
    {
     "cell_type": "code",
     "collapsed": false,
     "input": "separate_weekday_weekend['LEXINGTON AVE']",
     "language": "python",
     "metadata": {},
     "outputs": [
      {
       "metadata": {},
       "output_type": "pyout",
       "prompt_number": 114,
       "text": "[(78, 73267), (52, 49909)]"
      }
     ],
     "prompt_number": 114
    },
    {
     "cell_type": "code",
     "collapsed": false,
     "input": "separate_weekday_weekend",
     "language": "python",
     "metadata": {},
     "outputs": [
      {
       "metadata": {},
       "output_type": "pyout",
       "prompt_number": 115,
       "text": "{'1 AVE': [(78, 156585), (52, 118621)],\n '103 ST': [(39, 111794), (26, 69156)],\n '103 ST-CORONA': [(78, 169049), (52, 103691)],\n '104 ST': [(78, 14372), (52, 8969)],\n '110 ST': [(78, 78639), (52, 54435)],\n '110 ST-CATHEDRL': [(39, 34636), (26, 21167)],\n '110 ST-CPN': [(78, 68796), (52, 49507)],\n '111 ST': [(78, 94708), (52, 64303)],\n '116 ST': [(39, 88897), (26, 62297)],\n '116 ST-COLUMBIA': [(39, 19007), (26, 12441)],\n '121 ST': [(78, 9952), (52, 6999)],\n '125 ST': [(117, 344170), (78, 270675)],\n '135 ST': [(117, 58068), (78, 46351)],\n '137 ST-CITY COL': [(39, 58520), (26, 32113)],\n '138 ST-3 AVE': [(39, 30740), (26, 23198)],\n '138 ST-GR CONC': [(78, 17237), (52, 11627)],\n '14 ST': [(117, 93934), (78, 93389)],\n '14 ST-6 AVE': [(78, 69701), (52, 62889)],\n '14 ST-UNION SQ': [(39, 196046), (26, 206182)],\n '145 ST': [(78, 324171), (52, 235948)],\n '148 ST-LENOX': [(78, 33736), (52, 23016)],\n '149 ST-3 AVE': [(78, 67952), (52, 44092)],\n '149 ST-GR CONC': [(78, 51127), (52, 41203)],\n '14TH STREET': [(407, 11721), (292, 30338)],\n '15 ST-PROSPECT': [(39, 17764), (26, 11161)],\n '155 ST': [(39, 26103), (26, 19178)],\n '157 ST': [(37, 57569), (26, 37668)],\n '161 ST-YANKEE': [(39, 64292), (26, 44797)],\n '163 ST-AMSTERDM': [(36, 9146), (26, 15255)],\n '167 ST': [(78, 125011), (52, 85101)],\n '168 ST-BROADWAY': [(78, 98682), (52, 71573)],\n '169 ST': [(78, 59451), (52, 36217)],\n '170 ST': [(117, 71823), (78, 52634)],\n '174 ST': [(39, 29532), (26, 19576)],\n '174-175 ST': [(78, 14474), (52, 10366)],\n '175 ST': [(78, 64083), (52, 43478)],\n '176 ST': [(78, 30633), (52, 19707)],\n '18 AVE': [(117, 61745), (78, 46592)],\n '18 ST': [(78, 14004), (52, 12286)],\n '181 ST': [(117, 174807), (78, 106284)],\n '182-183 ST': [(78, 17848), (52, 13479)],\n '183 ST': [(78, 31933), (51, 22518)],\n '190 ST': [(77, 18356), (52, 13243)],\n '191 ST': [(78, 91751), (52, 53739)],\n '2 AVE': [(78, 112433), (52, 102677)],\n '20 AVE': [(117, 27029), (78, 16853)],\n '207 ST': [(78, 22820), (52, 16117)],\n '21 ST': [(78, 70453), (52, 34572)],\n '215 ST': [(78, 5730), (52, 3640)],\n '219 ST': [(38, 8030), (26, 5576)],\n '22 AVE-BAY PKY': [(39, 1496), (26, 1406)],\n '225 ST': [(39, 11197), (26, 7417)],\n '23 ST': [(117, 125231), (78, 98519)],\n '23 ST-5 AVE': [(78, 27011), (52, 24877)],\n '23 ST-6 AVE': [(78, 60790), (52, 46472)],\n '231 ST': [(78, 12163), (52, 6658)],\n '233 ST': [(39, 8918), (26, 5620)],\n '238 ST': [(39, 372), (26, 299)],\n '242 ST': [(78, 28025), (52, 18143)],\n '25 AVE': [(39, 6571), (26, 4479)],\n '25 ST': [(78, 28280), (52, 18940)],\n '28 ST': [(39, 63631), (26, 84187)],\n '28 ST-BROADWAY': [(78, 37390), (52, 38563)],\n '3 AVE': [(78, 32802), (52, 33549)],\n '33 ST': [(39, 47423), (26, 36885)],\n '33 ST/RAWSON ST': [(78, 14440), (52, 8131)],\n '34 ST-HERALD SQ': [(78, 355721), (52, 306021)],\n '34 ST-PENN STA': [(117, 456356), (78, 389789)],\n '36 ST': [(39, 45334), (26, 42150)],\n '4 AVE': [(78, 47412), (52, 33777)],\n '40 ST-LOWERY ST': [(78, 91022), (52, 57479)],\n '42 ST-BRYANT PK': [(78, 73107), (52, 75375)],\n '42 ST-GRD CNTRL': [(117, 291110), (78, 247427)],\n '42 ST-PA BUS TE': [(117, 329811), (78, 255713)],\n '42 ST-TIMES SQ': [(78, 315509), (52, 324471)],\n '45 ST': [(78, 42680), (52, 29434)],\n '46 ST': [(39, 41867), (26, 25945)],\n '46 ST-BLISS ST': [(78, 118469), (52, 74317)],\n '47-50 ST-ROCK': [(78, 71572), (52, 61783)],\n '49 ST-7 AVE': [(78, 71744), (52, 61416)],\n '5 AVE-53 ST': [(39, 6628), (26, 8968)],\n '5 AVE-59 ST': [(39, 8937), (26, 6784)],\n '5 AVE-BRYANT PK': [(78, 15962), (52, 13812)],\n '50 ST': [(78, 160907), (52, 137355)],\n '51 ST': [(76, 51313), (52, 98014)],\n '52 ST-LINCOLN': [(39, 49463), (27, 28732)],\n '53 ST': [(78, 30946), (52, 20226)],\n '55 ST': [(78, 7174), (52, 3002)],\n '57 ST': [(39, 17417), (26, 11947)],\n '57 ST-7 AVE': [(78, 24462), (52, 20011)],\n '59 ST': [(78, 165377), (52, 138482)],\n '59 ST-COLUMBUS': [(78, 179960), (52, 138484)],\n '6 AVE': [(78, 7912), (52, 7572)],\n '61 ST/WOODSIDE': [(39, 103679), (26, 70909)],\n '63 DR-REGO PARK': [(78, 46858), (52, 28539)],\n '65 ST': [(39, 15729), (26, 10318)],\n '66 ST-LINCOLN': [(39, 46096), (26, 34063)],\n '67 AVE': [(78, 36246), (52, 20778)],\n '68ST-HUNTER COL': [(39, 29005), (26, 20493)],\n '69 ST-FISK AVE': [(39, 31686), (26, 19165)],\n '7 AV-PARK SLOPE': [(39, 12033), (26, 8515)],\n '7 AVE': [(39, 44507), (26, 25787)],\n '7 AVE-53 ST': [(39, 32943), (26, 29946)],\n '71 ST': [(72, 20262), (52, 22247)],\n '72 ST': [(117, 140352), (78, 98487)],\n '74 ST-BROADWAY': [(78, 36669), (52, 23795)],\n '75 AVE': [(78, 2545), (52, 1817)],\n '77 ST': [(117, 103289), (78, 63216)],\n '79 ST': [(117, 48640), (78, 30874)],\n '8 AVE': [(39, 96555), (26, 83695)],\n \"8 ST-B'WAY NYU\": [(78, 55566), (52, 62114)],\n '81 ST-MUSEUM': [(39, 22863), (26, 15417)],\n '82 ST-JACKSON H': [(78, 145170), (52, 94774)],\n '86 ST': [(117, 450204), (78, 304533)],\n '9 AVE': [(39, 40947), (26, 22015)],\n '9 ST': [(78, 35386), (52, 24272)],\n '90 ST-ELMHURST': [(78, 89134), (52, 56103)],\n '96 ST': [(117, 241305), (78, 170997)],\n '9TH STREET': [(180, 6452), (119, 11673)],\n 'ALABAMA AVE': [(39, 8741), (26, 5938)],\n 'ALLERTON AVE': [(39, 11387), (26, 7945)],\n 'AQUEDUCT TRACK': [(78, 1633), (52, 1599)],\n 'AQUEDUCT-N CNDT': [(39, 8303), (26, 7228)],\n 'ASTOR PLACE': [(40, 42823), (26, 45611)],\n 'ATLANTIC AVE': [(78, 3735), (52, 2514)],\n 'AVE H': [(78, 21036), (52, 11171)],\n 'AVE I': [(39, 4666), (26, 2707)],\n 'AVE J': [(78, 24057), (52, 13758)],\n 'AVE M': [(78, 9785), (52, 7404)],\n 'AVE N': [(39, 10609), (26, 6019)],\n 'AVE P': [(78, 12817), (52, 7220)],\n 'AVE U': [(39, 28782), (26, 20067)],\n 'AVE X': [(78, 13417), (52, 7851)],\n 'BARCLAYS CENTER': [(78, 200166), (52, 150330)],\n 'BAY 50 ST': [(39, 2147), (26, 1987)],\n 'BAY PARKWAY': [(39, 38234), (26, 17561)],\n 'BAY PKY-22 AVE': [(39, 29221), (26, 21043)],\n 'BAY RIDGE AVE': [(78, 30461), (52, 19093)],\n 'BAY RIDGE-95 ST': [(78, 31314), (52, 18889)],\n 'BAYCHESTER AVE': [(39, 2600), (26, 1219)],\n 'BEACH 105 ST': [(39, 1419), (26, 681)],\n 'BEACH 25 ST': [(78, 20944), (52, 12920)],\n 'BEACH 36 ST': [(78, 9915), (52, 6921)],\n 'BEACH 44 ST': [(78, 6884), (52, 4511)],\n 'BEACH 60 ST': [(78, 26531), (52, 19399)],\n 'BEACH 67 ST': [(78, 24410), (52, 16852)],\n 'BEACH 90 ST': [(39, 4615), (26, 2552)],\n 'BEACH 98 ST': [(39, 2877), (26, 1673)],\n 'BEDFORD AVE': [(78, 255351), (52, 187563)],\n 'BEDFORD PARK BL': [(117, 58747), (77, 35787)],\n 'BEDFORD/NOSTRAN': [(78, 52736), (52, 34180)],\n 'BEEBE-39 AVE': [(78, 23901), (52, 16723)],\n 'BERGEN ST': [(117, 51416), (78, 36223)],\n 'BEVERLEY ROAD': [(78, 32078), (52, 16780)],\n 'BEVERLY ROAD': [(78, 7663), (52, 5003)],\n 'BLEECKER ST': [(78, 24759), (52, 20900)],\n 'BOROUGH HALL/CT': [(78, 83301), (52, 55812)],\n 'BOTANIC GARDEN': [(38, 7774), (26, 7009)],\n 'BOWERY': [(78, 12816), (52, 13069)],\n 'BOWLING GREEN': [(78, 72535), (52, 51154)],\n 'BOYD-88 ST': [(38, 7533), (26, 3614)],\n 'BRIGHTON BEACH': [(78, 51691), (52, 30700)],\n 'BROAD CHANNEL': [(39, 436), (26, 279)],\n 'BROAD ST': [(39, 2565), (26, 1175)],\n 'BROADWAY': [(39, 16124), (26, 13428)],\n 'BROADWAY-31 ST': [(78, 126902), (52, 81133)],\n 'BROADWAY-ENY': [(78, 68264), (50, 54778)],\n 'BROADWAY/LAFAY': [(39, 44621), (26, 50415)],\n 'BRONX PARK EAST': [(39, 5560), (26, 3649)],\n 'BROOK AVE': [(39, 31306), (26, 18835)],\n 'BROOKLYN BRIDGE': [(78, 41278), (52, 49888)],\n 'BUHRE AVE': [(31, 9147), (22, 14116)],\n 'BURKE AVE': [(39, 7277), (26, 4884)],\n 'BURNSIDE AVE': [(78, 57053), (52, 39519)],\n 'BUSHWICK AVE': [(78, 16827), (52, 10896)],\n 'CANAL ST': [(117, 93781), (78, 95785)],\n 'CARROLL ST': [(78, 35101), (52, 24508)],\n 'CASTLE HILL AVE': [(78, 64488), (51, 36121)],\n 'CATHEDRL-110 ST': [(39, 24342), (26, 15453)],\n 'CENTRAL AVE': [(39, 22345), (26, 14984)],\n 'CHAMBERS ST': [(78, 108673), (52, 96989)],\n 'CHAUNCEY ST': [(39, 9520), (26, 6014)],\n 'CHRISTOPHER ST': [(222, 57845), (152, 60585)],\n 'CHURCH AVE': [(117, 246878), (78, 167113)],\n 'CITY / BUS': [(770, 54279), (510, 57798)],\n 'CITY HALL': [(77, 5563), (52, 4429)],\n 'CLARK ST': [(78, 29123), (52, 19589)],\n 'CLASSON AVE': [(78, 48643), (51, 32952)],\n 'CLEVELAND ST': [(39, 17537), (26, 12699)],\n 'CLINTON-WASH AV': [(117, 30433), (78, 21554)],\n 'CORTELYOU ROAD': [(78, 16233), (52, 12485)],\n 'CORTLANDT ST': [(39, 8314), (26, 7522)],\n 'COURT SQ': [(78, 38842), (52, 27360)],\n 'COURT SQ-23 ST': [(78, 11504), (52, 8397)],\n 'CRESCENT ST': [(39, 29316), (26, 18290)],\n 'CROWN HTS-UTICA': [(78, 196597), (52, 132374)],\n 'CYPRESS AVE': [(39, 10339), (26, 6891)],\n 'CYPRESS HILLS': [(78, 7109), (51, 4688)],\n 'DEKALB AVE': [(78, 80893), (52, 51654)],\n 'DELANCEY ST': [(39, 52588), (26, 59105)],\n 'DITMARS BL-31 S': [(78, 172029), (52, 104541)],\n 'DITMAS AVE': [(39, 17933), (26, 10368)],\n 'DYCKMAN ST': [(78, 43897), (52, 26978)],\n 'DYCKMAN-200 ST': [(39, 678), (26, 578)],\n 'DYRE AVE': [(38, 18995), (26, 20285)],\n 'E 143 ST': [(39, 2987), (26, 1932)],\n 'E 149 ST': [(39, 22939), (26, 14795)],\n 'E 177 ST-PARKCH': [(39, 89178), (26, 60843)],\n 'E 180 ST': [(39, 34334), (26, 26524)],\n 'E TREMONT AVE': [(39, 34791), (26, 22840)],\n 'EAST 105 ST': [(39, 18232), (26, 11212)],\n 'EAST BROADWAY': [(70, 44386), (52, 69383)],\n 'EASTERN PKWY': [(77, 43685), (52, 28498)],\n 'ELDER AVE': [(39, 39403), (26, 24693)],\n 'ELDERTS LANE': [(78, 22113), (52, 14017)],\n 'ELMHURST AVE': [(78, 39809), (52, 25861)],\n 'ESSEX ST': [(39, 22768), (26, 28279)],\n 'EUCLID AVE': [(78, 25726), (52, 17627)],\n 'EXCHANGE PLACE': [(928, 27442), (638, 20683)],\n 'FAR ROCKAWAY': [(78, 40006), (52, 26590)],\n 'FLATBUSH AVE': [(39, 49885), (26, 34163)],\n 'FLUSHING AVE': [(39, 23238), (26, 17600)],\n 'FORDHAM ROAD': [(78, 70508), (52, 46847)],\n 'FOREST AVE': [(39, 19308), (26, 11655)],\n 'FOREST HILLS-71': [(39, 51212), (26, 32164)],\n 'FOREST PARKWAY': [(78, 18612), (52, 11698)],\n 'FRANKLIN AVE': [(117, 127832), (78, 83463)],\n 'FRANKLIN ST': [(39, 4736), (26, 6015)],\n 'FREEMAN ST': [(39, 26007), (26, 16151)],\n 'FRESH POND ROAD': [(39, 31447), (26, 18424)],\n 'FT HAMILTON PKY': [(39, 44620), (26, 27954)],\n 'FULTON ST': [(155, 87621), (104, 74423)],\n 'GATES AVE': [(39, 18460), (26, 10493)],\n 'GRAHAM AVE': [(78, 66233), (52, 39339)],\n 'GRAND ARMY PLAZ': [(77, 25832), (52, 15007)],\n 'GRAND AV-NEWTON': [(78, 97981), (52, 62451)],\n 'GRAND ST': [(78, 115813), (52, 104945)],\n 'GRAND-30 AVE': [(78, 142174), (52, 89038)],\n 'GRANT AVE': [(78, 55502), (52, 35449)],\n 'GREENPOINT AVE': [(78, 38401), (52, 29412)],\n 'GREENWOOD-111': [(39, 8522), (26, 3856)],\n 'GROVE STREET': [(682, 71892), (458, 60233)],\n 'GUN HILL ROAD': [(117, 51359), (78, 32387)],\n 'HALSEY ST': [(117, 72306), (78, 46232)],\n 'HARRISON': [(487, 26822), (316, 19985)],\n 'HEWES ST': [(39, 11218), (26, 7250)],\n 'HIGH ST': [(78, 47859), (52, 34818)],\n 'HOUSTON ST': [(39, 14807), (26, 14791)],\n 'HOWARD BCH-JFK': [(39, 2328), (26, 1809)],\n 'HOYT ST': [(78, 17378), (52, 13069)],\n 'HOYT ST-ASTORIA': [(78, 107367), (52, 65398)],\n 'HOYT/SCHERMER': [(78, 33896), (52, 25871)],\n 'HUDSON-80 ST': [(39, 23846), (26, 17104)],\n 'HUNTERS PT AVE': [(39, 7970), (26, 4409)],\n 'HUNTS POINT AVE': [(39, 32047), (26, 20889)],\n 'INTERVALE-163': [(39, 16118), (26, 11018)],\n 'INWOOD-207 ST': [(39, 27921), (26, 22192)],\n 'JACKSON AVE': [(39, 6202), (26, 4569)],\n 'JAMAICA CENTER': [(78, 263525), (52, 160948)],\n 'JAMAICA-179 ST': [(78, 89718), (52, 52120)],\n 'JAMAICA-VAN WYC': [(39, 22891), (26, 14483)],\n 'JAY ST-METROTEC': [(78, 77034), (52, 57056)],\n 'JEFFERSON ST': [(78, 17749), (52, 15249)],\n 'JFK HOWARD BCH': [(42, 17533), (26, 10763)],\n 'JFK JAMAICA CT1': [(51, 47972), (26, 28754)],\n 'JOURNAL SQUARE': [(624, 57627), (416, 45505)],\n 'JUNCTION BLVD': [(78, 176191), (52, 140439)],\n 'JUNIUS ST': [(78, 10078), (52, 6146)],\n 'KINGS HIGHWAY': [(117, 160713), (78, 91883)],\n 'KINGSBRIDGE RD': [(39, 66479), (26, 42288)],\n 'KINGSTON AVE': [(78, 43925), (52, 24188)],\n 'KINGSTON-THROOP': [(78, 55626), (52, 40867)],\n 'KNICKERBOCKER': [(39, 20014), (26, 14319)],\n 'KOSCIUSZKO ST': [(39, 15701), (26, 10471)],\n 'LACKAWANNA': [(814, 18937), (524, 12322)],\n 'LAFAYETTE AVE': [(39, 11166), (26, 8613)],\n 'LEFFERTS BLVD': [(78, 59434), (52, 26097)],\n 'LEXINGTON AVE': [(78, 73267), (52, 49909)],\n 'LEXINGTON-53 ST': [(78, 93058), (52, 84231)],\n 'LIBERTY AVE': [(39, 6051), (26, 4584)],\n 'LIVONIA AVE': [(39, 10210), (26, 7521)],\n 'LONGWOOD AVE': [(39, 15274), (26, 9835)],\n 'LORIMER ST': [(39, 24313), (26, 17843)],\n 'MAIN ST': [(78, 411851), (52, 250066)],\n 'MARBLE HILL-225': [(78, 10092), (51, 6458)],\n 'MARCY AVE': [(39, 43041), (26, 35555)],\n 'METROPOLITAN AV': [(117, 59269), (78, 49216)],\n 'METS-WILLETS PT': [(39, 7967), (26, 11702)],\n 'MIDDLETOWN ROAD': [(39, 10702), (26, 6487)],\n 'MONTROSE AVE': [(78, 45321), (52, 31619)],\n 'MORGAN AVE': [(78, 27335), (52, 21161)],\n 'MORRIS PARK': [(39, 12545), (26, 5057)],\n 'MORRISON AVE': [(78, 64413), (52, 41067)],\n 'MOSHOLU PARKWAY': [(39, 12609), (26, 7755)],\n 'MT EDEN AVE': [(78, 38506), (52, 25471)],\n 'MYRTLE AVE': [(117, 192269), (78, 131204)],\n 'MYRTLE-WILLOUGH': [(39, 23936), (26, 14971)],\n 'NASSAU AV': [(78, 30274), (52, 30618)],\n 'NECK ROAD': [(78, 9266), (52, 5415)],\n 'NEPTUNE AVE': [(39, 1437), (26, 886)],\n 'NEREID AVE': [(37, 5696), (26, 9917)],\n 'NEVINS ST': [(78, 37849), (52, 26199)],\n 'NEW LOTS AVE': [(117, 69941), (78, 40784)],\n 'NEW UTRECHT AVE': [(39, 22282), (26, 19329)],\n 'NEWARK BM BW': [(585, 7745), (390, 4115)],\n 'NEWARK C': [(633, 188), (427, 573)],\n 'NEWARK HM HE': [(593, 38788), (379, 30055)],\n 'NEWARK HW BMEBE': [(505, 9300), (333, 8188)],\n 'NEWKIRK AVE': [(39, 27793), (26, 17627)],\n 'NEWKIRK PLAZA': [(39, 59331), (26, 48322)],\n 'NORTHERN BLVD': [(39, 24865), (26, 16912)],\n 'NORWOOD AVE': [(39, 21249), (26, 12948)],\n 'NORWOOD-205 ST': [(39, 38492), (26, 26778)],\n 'NOSTRAND AVE': [(78, 165419), (52, 108373)],\n 'OCEAN PARKWAY': [(78, 12343), (52, 7210)],\n 'ORCHARD BEACH': [(36, 0), (22, 0)],\n 'OXFORD-104 ST': [(78, 8965), (52, 5473)],\n 'PARK PLACE': [(116, 15560), (78, 11454)],\n 'PARKSIDE AVE': [(39, 29055), (26, 15510)],\n 'PARSONS BLVD': [(78, 55861), (52, 34271)],\n 'PATH WTC': [(991, 30346), (653, 26330)],\n 'PATH WTC 2': [(37, 2217), (22, 1099)],\n 'PAVONIA/NEWPORT': [(403, 63052), (270, 49188)],\n 'PELHAM BAY PARK': [(78, 29594), (52, 24011)],\n 'PELHAM PARKWAY': [(39, 27296), (26, 17601)],\n 'PENNSYLVANIA AV': [(78, 15467), (52, 8797)],\n 'PRESIDENT ST': [(78, 33302), (52, 22393)],\n \"PRINCE ST-B'WAY\": [(78, 36956), (52, 38963)],\n 'PROSPECT AVE': [(117, 52272), (78, 31134)],\n 'PROSPECT PARK': [(78, 95007), (52, 63269)],\n 'QUEENS PLAZA': [(39, 24375), (26, 22945)],\n 'QUEENSBORO PLZ': [(78, 23225), (52, 17925)],\n 'RALPH AVE': [(39, 16138), (26, 11827)],\n 'RECTOR ST': [(78, 37053), (52, 29188)],\n 'RIT-MANHATTAN': [(39, 139), (26, 149)],\n 'RIT-ROOSEVELT': [(39, 285), (26, 186)],\n 'ROCKAWAY AVE': [(59, 30793), (42, 20931)],\n 'ROCKAWAY BLVD': [(39, 3619), (26, 2638)],\n 'ROCKAWAY PK 116': [(39, 3558), (26, 1978)],\n 'ROCKAWAY PKY': [(39, 20109), (26, 11943)],\n 'ROOSEVELT AVE': [(78, 378687), (52, 263490)],\n 'ROOSEVELT IS': [(78, 53061), (52, 27357)],\n 'SARATOGA AVE': [(78, 30636), (52, 16593)],\n 'SENECA AVE': [(39, 16385), (26, 11432)],\n 'SHEEPSHEAD BAY': [(39, 51400), (26, 31240)],\n 'SHEPHERD AVE': [(39, 11026), (26, 7563)],\n 'SIMPSON ST': [(39, 6107), (26, 4773)],\n 'SMITH-9 ST': [(78, 30719), (52, 22895)],\n 'SOUTH FERRY': [(39, 42342), (26, 31903)],\n 'SPRING ST': [(78, 48844), (52, 46242)],\n 'ST LAWRENCE AVE': [(78, 41969), (52, 30759)],\n 'ST. GEORGE': [(78, 9), (52, 3)],\n 'STEINWAY ST': [(78, 75984), (52, 51790)],\n 'STERLING ST': [(78, 34540), (52, 22352)],\n 'STILLWELL AVE': [(39, 54116), (26, 41745)],\n 'SUTPHIN BLVD': [(117, 158128), (78, 102135)],\n 'SUTTER AVE': [(117, 64821), (78, 38891)],\n 'THIRTY ST': [(624, 14546), (420, 10124)],\n 'THIRTY THIRD ST': [(638, 14673), (411, 29088)],\n 'TOMPKINSVILLE': [(39, 0), (26, 0)],\n 'TREMONT AVE': [(39, 33235), (26, 23677)],\n 'TWENTY THIRD ST': [(322, 6018), (217, 7914)],\n 'UNION ST': [(78, 40889), (52, 27325)],\n 'UNION TPK-KEW G': [(39, 66305), (26, 47627)],\n 'UTICA AVE': [(39, 73958), (26, 49999)],\n 'VAN ALSTON-21ST': [(39, 4474), (26, 4035)],\n 'VAN SICLEN AVE': [(59, 35197), (42, 24978)],\n 'VAN WYCK BLVD': [(78, 23517), (52, 15294)],\n 'VERNON/JACKSON': [(78, 88714), (52, 56445)],\n 'W 4 ST-WASH SQ': [(39, 111684), (26, 122208)],\n 'W 8 ST-AQUARIUM': [(78, 5032), (52, 4129)],\n 'WAKEFIELD-241': [(39, 32368), (26, 20635)],\n 'WALL ST': [(117, 63489), (78, 46969)],\n 'WASHINGTON-36 A': [(78, 56270), (52, 39816)],\n 'WESTCHESTER SQ': [(78, 43094), (52, 26292)],\n 'WHITEHALL ST': [(39, 25664), (26, 21663)],\n 'WHITLOCK AVE': [(78, 13821), (52, 9731)],\n 'WILSON AVE': [(78, 45151), (52, 32037)],\n 'WINTHROP ST': [(39, 6123), (26, 4084)],\n 'WOODHAVEN BLVD': [(117, 63891), (78, 42504)],\n 'WOODLAWN ROAD': [(78, 20170), (52, 14095)],\n 'WORLD TRADE CTR': [(78, 24845), (52, 18953)],\n 'YORK ST': [(39, 18560), (26, 12477)],\n 'ZEREGA AVE': [(32, 6700), (18, 3701)]}"
      }
     ],
     "prompt_number": 115
    },
    {
     "cell_type": "code",
     "collapsed": false,
     "input": "def weekend_mean(data, station):\n    nums = data[station][1][0]\n    counts = data[station][1][1]\n    if nums != 0:\n        mean = counts / nums\n    else:\n        mean = 0\n    return mean",
     "language": "python",
     "metadata": {},
     "outputs": [],
     "prompt_number": 116
    },
    {
     "cell_type": "code",
     "collapsed": false,
     "input": "weekend_mean(separate_weekday_weekend, 'LEXINGTON AVE')",
     "language": "python",
     "metadata": {},
     "outputs": [
      {
       "metadata": {},
       "output_type": "pyout",
       "prompt_number": 117,
       "text": "959.7884615384615"
      }
     ],
     "prompt_number": 117
    },
    {
     "cell_type": "code",
     "collapsed": false,
     "input": "def weekday_mean(data, station):\n    nums = data[station][0][0]\n    counts = data[station][0][1]\n    if nums != 0:\n        mean = counts / nums\n    else:\n        mean = 0\n    return mean",
     "language": "python",
     "metadata": {},
     "outputs": [],
     "prompt_number": 118
    },
    {
     "cell_type": "code",
     "collapsed": false,
     "input": "weekday_mean(separate_weekday_weekend, 'LEXINGTON AVE')",
     "language": "python",
     "metadata": {},
     "outputs": [
      {
       "metadata": {},
       "output_type": "pyout",
       "prompt_number": 119,
       "text": "939.3205128205128"
      }
     ],
     "prompt_number": 119
    },
    {
     "cell_type": "code",
     "collapsed": false,
     "input": "def weekend_means(data):\n    mean_list = []\n    for key in data:\n        mean_list.append((key, weekend_mean(data, key)))\n    mean_list.sort(key=lambda x: x[1], reverse=True)\n    return mean_list ",
     "language": "python",
     "metadata": {},
     "outputs": [],
     "prompt_number": 120
    },
    {
     "cell_type": "code",
     "collapsed": false,
     "input": "weekend_means(separate_weekday_weekend)[:10]",
     "language": "python",
     "metadata": {},
     "outputs": [
      {
       "metadata": {},
       "output_type": "pyout",
       "prompt_number": 121,
       "text": "[('14 ST-UNION SQ', 7930.076923076923),\n ('42 ST-TIMES SQ', 6239.826923076923),\n ('34 ST-HERALD SQ', 5885.0192307692305),\n ('ROOSEVELT AVE', 5067.115384615385),\n ('34 ST-PENN STA', 4997.294871794872),\n ('MAIN ST', 4808.961538461538),\n ('W 4 ST-WASH SQ', 4700.307692307692),\n ('145 ST', 4537.461538461538),\n ('86 ST', 3904.269230769231),\n ('BEDFORD AVE', 3606.980769230769)]"
      }
     ],
     "prompt_number": 121
    },
    {
     "cell_type": "code",
     "collapsed": false,
     "input": "def weekday_means(data):\n    mean_list = []\n    for key in data:\n        mean_list.append((key, weekday_mean(data, key)))\n    mean_list.sort(key=lambda x: x[1], reverse=True)\n    return mean_list",
     "language": "python",
     "metadata": {},
     "outputs": [],
     "prompt_number": 122
    },
    {
     "cell_type": "code",
     "collapsed": false,
     "input": "weekday_means(separate_weekday_weekend)[:10]",
     "language": "python",
     "metadata": {},
     "outputs": [
      {
       "metadata": {},
       "output_type": "pyout",
       "prompt_number": 123,
       "text": "[('MAIN ST', 5280.141025641025),\n ('14 ST-UNION SQ', 5026.820512820513),\n ('ROOSEVELT AVE', 4854.961538461538),\n ('34 ST-HERALD SQ', 4560.525641025641),\n ('145 ST', 4156.038461538462),\n ('42 ST-TIMES SQ', 4044.9871794871797),\n ('34 ST-PENN STA', 3900.4786324786323),\n ('86 ST', 3847.897435897436),\n ('JAMAICA CENTER', 3378.525641025641),\n ('BEDFORD AVE', 3273.730769230769)]"
      }
     ],
     "prompt_number": 123
    },
    {
     "cell_type": "code",
     "collapsed": false,
     "input": "def weekend_minus_weekday(data):\n    delta_list = []\n    for station in data:\n        wday_nums = data[station][0][0]\n        wday_counts = data[station][0][1]\n        \n        wend_nums = data[station][1][0]\n        wend_counts = data[station][1][1]\n        if wday_nums != 0 and wend_nums != 0:\n            delta_list.append((station, float(Fraction(wend_counts, wend_nums) - Fraction(wday_counts, wday_nums))))\n    \n    minus_list = sorted(delta_list, key=lambda x: x[1], reverse=True)\n    return minus_list",
     "language": "python",
     "metadata": {},
     "outputs": [],
     "prompt_number": 124
    },
    {
     "cell_type": "code",
     "collapsed": false,
     "input": "weekend_minus_weekday(separate_weekday_weekend)[:10]",
     "language": "python",
     "metadata": {},
     "outputs": [
      {
       "metadata": {},
       "output_type": "pyout",
       "prompt_number": 125,
       "text": "[('14 ST-UNION SQ', 2903.25641025641),\n ('42 ST-TIMES SQ', 2194.8397435897436),\n ('W 4 ST-WASH SQ', 1836.6153846153845),\n ('28 ST', 1606.3974358974358),\n ('34 ST-HERALD SQ', 1324.4935897435898),\n ('51 ST', 1209.7135627530365),\n ('34 ST-PENN STA', 1096.8162393162393),\n ('DELANCEY ST', 924.8589743589744),\n ('BROADWAY/LAFAY', 794.9102564102565),\n ('8 AVE', 743.2692307692307)]"
      }
     ],
     "prompt_number": 125
    },
    {
     "cell_type": "code",
     "collapsed": false,
     "input": "def weekend_over_weekday(data):\n    delta_list = []\n    for station in data:\n        wday_nums = data[station][0][0]\n        wday_counts = data[station][0][1] \n        wend_nums = data[station][1][0]\n        wend_counts = data[station][1][1]\n        if wday_nums!= 0:\n            wday_mean = Fraction(wday_counts, wday_nums)\n            if wday_mean!= 0 and wend_nums != 0:\n                delta_list.append((station, float(Fraction(wend_counts, wend_nums) / wday_mean)))\n    delta_list.sort(key=lambda x: x[1], reverse=True)\n    return delta_list",
     "language": "python",
     "metadata": {},
     "outputs": [],
     "prompt_number": 126
    },
    {
     "cell_type": "code",
     "collapsed": false,
     "input": "weekend_over_weekday(separate_weekday_weekend)[:10]",
     "language": "python",
     "metadata": {},
     "outputs": [
      {
       "metadata": {},
       "output_type": "pyout",
       "prompt_number": 127,
       "text": "[('NEWARK C', 4.518274453136678),\n ('14TH STREET', 3.607728430296634),\n ('THIRTY THIRD ST', 3.0773280880867135),\n ('51 ST', 2.79171420048001),\n ('9TH STREET', 2.7366147947089563),\n ('NEREID AVE', 2.4776428802938635),\n ('163 ST-AMSTERDM', 2.3094585274773336),\n ('METS-WILLETS PT', 2.2032132546755365),\n ('BUHRE AVE', 2.1745629466193583),\n ('EAST BROADWAY', 2.1042714438717685)]"
      }
     ],
     "prompt_number": 127
    },
    {
     "cell_type": "code",
     "collapsed": false,
     "input": "percent_weekend = weekend_over_weekday(separate_weekday_weekend)[:10]\n\nstations = []\npcts = []\nfor pct_tup in percent_weekend:\n    stations.append(pct_tup[0])\n    pcts.append(pct_tup[1])\n\nplt.figure(figsize=(10,3))\nplt.title('Weekend / Weekday')\nplt.xticks(np.arange(len(stations)), stations, rotation=90)\nplt.scatter(range(len(stations)),pcts)\nplt.show()",
     "language": "python",
     "metadata": {},
     "outputs": [
      {
       "metadata": {},
       "output_type": "display_data",
       "png": "[encoded data removed]",
       "text": "<matplotlib.figure.Figure at 0x7f64c9fd2f10>"
      }
     ],
     "prompt_number": 128
    },
    {
     "cell_type": "code",
     "collapsed": false,
     "input": "",
     "language": "python",
     "metadata": {},
     "outputs": []
    }
   ],
   "metadata": {}
  }
 ]
}