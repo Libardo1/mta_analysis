{
 "metadata": {
  "name": ""
 },
 "nbformat": 3,
 "nbformat_minor": 0,
 "worksheets": [
  {
   "cells": [
    {
     "cell_type": "code",
     "collapsed": false,
     "input": [
      "from __future__ import division\n",
      "import csv\n",
      "import pycurl\n",
      "import matplotlib.pyplot as plt\n",
      "import datetime\n",
      "from fractions import Fraction\n",
      "import numpy as np\n",
      "\n",
      "%matplotlib inline"
     ],
     "language": "python",
     "metadata": {},
     "outputs": [],
     "prompt_number": 1
    },
    {
     "cell_type": "code",
     "collapsed": false,
     "input": [
      "\n",
      "#week: mon, tues, wed\n",
      "#weekend: fri, sat\n",
      "#time: 16----00----04\n",
      "#       0    v1    v2\n",
      "\n",
      "#Set initial variables\n",
      "AM = 4\n",
      "PM = 20\n",
      "MONDAY = 0\n",
      "TUESDAY = 1\n",
      "WEDNESDAY = 2\n",
      "FRIDAY = 4\n",
      "SATURDAY = 5\n",
      "\n",
      "morning = datetime.time(AM, 0)\n",
      "evening = datetime.time(PM, 0)\n"
     ],
     "language": "python",
     "metadata": {},
     "outputs": [],
     "prompt_number": 2
    },
    {
     "cell_type": "code",
     "collapsed": false,
     "input": [
      "'''\n",
      "# Download data from MTA website\n",
      "def download_data(m, day1, maxday):\n",
      "    url = \"http://web.mta.info/developers/\"\n",
      "    path = \"data/nyct/turnstile/\"\n",
      "    month = m\n",
      "    day = day1\n",
      "    response = urllib2.urlopen(url).read()\n",
      "    while day <= maxday:\n",
      "        filename = month+ \"%02d.txt\" %day\n",
      "        with open(filename, \"wb\") as f:\n",
      "            curl = pycurl.Curl()\n",
      "            curl.setopt(pycurl.URL, url+path+filename)\n",
      "            curl.setopt(pycurl.WRITEDATA, f)\n",
      "            curl.perform()\n",
      "            curl.close()\n",
      "        day += 7\n",
      "'''"
     ],
     "language": "python",
     "metadata": {},
     "outputs": [
      {
       "metadata": {},
       "output_type": "pyout",
       "prompt_number": 3,
       "text": [
        "'\\n# Download data from MTA website\\ndef download_data(m, day1, maxday):\\n    url = \"http://web.mta.info/developers/\"\\n    path = \"data/nyct/turnstile/\"\\n    month = m\\n    day = day1\\n    response = urllib2.urlopen(url).read()\\n    while day <= maxday:\\n        filename = month+ \"%02d.txt\" %day\\n        with open(filename, \"wb\") as f:\\n            curl = pycurl.Curl()\\n            curl.setopt(pycurl.URL, url+path+filename)\\n            curl.setopt(pycurl.WRITEDATA, f)\\n            curl.perform()\\n            curl.close()\\n        day += 7\\n'"
       ]
      }
     ],
     "prompt_number": 3
    },
    {
     "cell_type": "code",
     "collapsed": false,
     "input": [
      "# Generate all MTA data file names\n",
      "def filelist():\n",
      "    month_list = [\"turnstile_1504\", \"turnstile_1505\", \"turnstile_1506\"]\n",
      "    start_list = [4, 2, 6]\n",
      "    end_list = [30, 31, 30]\n",
      "    file_list = []\n",
      "    for m in range(len(month_list)):\n",
      "        day = start_list[m]\n",
      "        while day <= end_list[m]:\n",
      "            filename = month_list[m] + \"%02d.txt\" %day\n",
      "            file_list.append(filename)\n",
      "            day += 7\n",
      "    return file_list"
     ],
     "language": "python",
     "metadata": {},
     "outputs": [],
     "prompt_number": 4
    },
    {
     "cell_type": "code",
     "collapsed": false,
     "input": [
      "filelist()"
     ],
     "language": "python",
     "metadata": {},
     "outputs": [
      {
       "metadata": {},
       "output_type": "pyout",
       "prompt_number": 5,
       "text": [
        "['turnstile_150404.txt',\n",
        " 'turnstile_150411.txt',\n",
        " 'turnstile_150418.txt',\n",
        " 'turnstile_150425.txt',\n",
        " 'turnstile_150502.txt',\n",
        " 'turnstile_150509.txt',\n",
        " 'turnstile_150516.txt',\n",
        " 'turnstile_150523.txt',\n",
        " 'turnstile_150530.txt',\n",
        " 'turnstile_150606.txt',\n",
        " 'turnstile_150613.txt',\n",
        " 'turnstile_150620.txt',\n",
        " 'turnstile_150627.txt']"
       ]
      }
     ],
     "prompt_number": 5
    },
    {
     "cell_type": "code",
     "collapsed": false,
     "input": [
      "def read_csv(filename):\n",
      "    '''takes name of csv file, including extension, and returns a dictionary'''\n",
      "    #C/A,UNIT,SCP,STATION,LINENAME,DIVISION,DATE,TIME,DESC,ENTRIES,EXITS\n",
      "    data = {}\n",
      "\n",
      "    with open(filename) as f:\n",
      "        reader = csv.reader(f, skipinitialspace=True, delimiter=\",\")\n",
      "        has_header = csv.Sniffer().has_header(f.read(1024))\n",
      "        f.seek(0) #return to top\n",
      "        incsv = csv.reader(f)\n",
      "        if has_header:\n",
      "            next(incsv)\n",
      "            for row in reader:\n",
      "                row = [' '.join(x.split()) for x in row] \n",
      "                key = tuple(row[:4]) #C/A, Unit, SCP, Station\n",
      "                val = [row[6], row[7], row[10]] #date, time, exits\n",
      "                if key not in data:\n",
      "                    data[key] = [val]\n",
      "                else:\n",
      "                    data[key].append(val)\n",
      "    return data"
     ],
     "language": "python",
     "metadata": {},
     "outputs": [],
     "prompt_number": 6
    },
    {
     "cell_type": "code",
     "collapsed": false,
     "input": [
      "#len(read_csv(filelist()).items())"
     ],
     "language": "python",
     "metadata": {},
     "outputs": [],
     "prompt_number": 7
    },
    {
     "cell_type": "code",
     "collapsed": false,
     "input": [
      "# Combine several week's data\n",
      "def combine_weeks(files):\n",
      "    '''Takes a list of filenames to read'''\n",
      "    d = {}\n",
      "    dictlist = []\n",
      "    for f in files:\n",
      "        di = read_csv(f)\n",
      "        dictlist.append(di)\n",
      "    for dl in dictlist:\n",
      "        for key in dl:\n",
      "            if key in d:\n",
      "                d[key] += dl[key]\n",
      "            else:\n",
      "                d[key] = dl[key]\n",
      "    return d\n",
      "\n",
      "full_dict = combine_weeks(filelist())"
     ],
     "language": "python",
     "metadata": {},
     "outputs": [],
     "prompt_number": 8
    },
    {
     "cell_type": "code",
     "collapsed": false,
     "input": [
      "full_dict.items()[0]\n",
      "len(full_dict.items())"
     ],
     "language": "python",
     "metadata": {},
     "outputs": [
      {
       "metadata": {},
       "output_type": "pyout",
       "prompt_number": 9,
       "text": [
        "4583"
       ]
      }
     ],
     "prompt_number": 9
    },
    {
     "cell_type": "code",
     "collapsed": false,
     "input": [
      "morning"
     ],
     "language": "python",
     "metadata": {},
     "outputs": [
      {
       "metadata": {},
       "output_type": "pyout",
       "prompt_number": 10,
       "text": [
        "datetime.time(4, 0)"
       ]
      }
     ],
     "prompt_number": 10
    },
    {
     "cell_type": "code",
     "collapsed": false,
     "input": [
      "evening"
     ],
     "language": "python",
     "metadata": {},
     "outputs": [
      {
       "metadata": {},
       "output_type": "pyout",
       "prompt_number": 11,
       "text": [
        "datetime.time(20, 0)"
       ]
      }
     ],
     "prompt_number": 11
    },
    {
     "cell_type": "code",
     "collapsed": false,
     "input": [
      "def filter_timespan(date_time):\n",
      "    '''Selects for times between (20:00, 4:00]'''\n",
      "    if date_time.time() <= morning or datetime.time() > evening :\n",
      "        time_outlier = False\n",
      "    else:\n",
      "        time_outlier = True\n",
      "    return time_outlier"
     ],
     "language": "python",
     "metadata": {},
     "outputs": [],
     "prompt_number": 12
    },
    {
     "cell_type": "code",
     "collapsed": false,
     "input": [
      "def adjust_night(date_time):\n",
      "    \"\"\"adjust 0-4 times to belong to the previous day, midnight-4am Saturday is considered Friday night\"\"\"\n",
      "    if date_time.time() <= morning:\n",
      "        date_time -= datetime.timedelta(days=1)\n",
      "    return date_time"
     ],
     "language": "python",
     "metadata": {},
     "outputs": [],
     "prompt_number": 13
    },
    {
     "cell_type": "code",
     "collapsed": false,
     "input": [
      "#Challenge 2 \n",
      "def combine_datetime(data, count_in=2):\n",
      "    '''takes dictionary, data, converts to datetime, and get count deltas, count_in=2 is the exit data'''\n",
      "    #csv format: [,,06/20/2015, 00:00:00,,entries,]\n",
      "    date_time = {}\n",
      "    outlier = False\n",
      "    for key in data:\n",
      "        temp = data[key]\n",
      "        temp.sort()\n",
      "        for x in range(len(temp)):\n",
      "            d_t_string = \" \".join(temp[x][:2])\n",
      "            d_t = datetime.datetime.strptime(d_t_string,\"%m/%d/%Y %H:%M:%S\")\n",
      "            d_t = adjust_night(d_t)\n",
      "            time_outlier = filter_timespan(d_t)\n",
      "            if x > 0:\n",
      "                count = int(temp[x][count_in]) - int(temp[x-1][count_in])\n",
      "                val = [d_t, count]\n",
      "                if count < 0 or count > 5000:\n",
      "                    outlier = True\n",
      "            else:\n",
      "                 val = [d_t, 0]\n",
      "            # clean data\n",
      "            if not outlier and not time_outlier:\n",
      "                if key not in date_time:\n",
      "                    date_time[key] = [val]\n",
      "                else:\n",
      "                    date_time[key].append(val)\n",
      "            outlier = False\n",
      "    return date_time\n",
      "\n",
      "cleaned_dict = combine_datetime(full_dict)"
     ],
     "language": "python",
     "metadata": {},
     "outputs": [],
     "prompt_number": 14
    },
    {
     "cell_type": "code",
     "collapsed": false,
     "input": [
      "#cleaned_dict.items()[0]"
     ],
     "language": "python",
     "metadata": {},
     "outputs": [],
     "prompt_number": 41
    },
    {
     "cell_type": "code",
     "collapsed": false,
     "input": [
      "def combine_days(data):\n",
      "    '''Takes a dictionary, and combines 4 hour timespan\n",
      "    data into daily totals. Is also used to combine values\n",
      "    when the converting to dictionaries with simpler keys'''\n",
      "    day_counts = {}\n",
      "    for turnstile, rows in data.items():\n",
      "        by_day = {}\n",
      "        for time, count in rows:\n",
      "            if hasattr(time, 'hour'):\n",
      "                    day = time.date()\n",
      "            else:\n",
      "                day = time\n",
      "            by_day[day] = by_day.get(day, 0) + count\n",
      "        day_counts[turnstile] = sorted(by_day.items())\n",
      "    return day_counts\n",
      "\n",
      "night_counts = combine_days(cleaned_dict)"
     ],
     "language": "python",
     "metadata": {},
     "outputs": [],
     "prompt_number": 16
    },
    {
     "cell_type": "code",
     "collapsed": false,
     "input": [
      "#night_counts.items()[0]"
     ],
     "language": "python",
     "metadata": {},
     "outputs": [],
     "prompt_number": 40
    },
    {
     "cell_type": "code",
     "collapsed": false,
     "input": [
      "def combine_terminals(data, key_bool=False):\n",
      "    '''Used when making a dictionary with fewer/shorter \n",
      "    keys than the previous dictionary'''\n",
      "    all_terminals = {}\n",
      "    for key, value in data.items():\n",
      "        if key_bool == True:\n",
      "            key_args = [key[0], key[1], key[3]]\n",
      "            new_key = tuple(key_args)\n",
      "        else:\n",
      "            new_key = key[2]\n",
      "            \n",
      "        if new_key in all_terminals: # add the value lists\n",
      "            all_terminals[new_key] = all_terminals[new_key] + value\n",
      "        else:\n",
      "            all_terminals[new_key] = value\n",
      "    all_terminals = combine_days(all_terminals)\n",
      "    return all_terminals\n",
      "\n",
      "no_scp = combine_terminals(night_counts, True)\n",
      "stations_only = combine_terminals(no_scp, False)"
     ],
     "language": "python",
     "metadata": {},
     "outputs": [],
     "prompt_number": 18
    },
    {
     "cell_type": "code",
     "collapsed": false,
     "input": [
      "#no_scp['A002','R051','LEXINGTON AVE']"
     ],
     "language": "python",
     "metadata": {},
     "outputs": [],
     "prompt_number": 39
    },
    {
     "cell_type": "code",
     "collapsed": false,
     "input": [
      "#stations_only['LEXINGTON AVE']"
     ],
     "language": "python",
     "metadata": {},
     "outputs": [],
     "prompt_number": 42
    },
    {
     "cell_type": "code",
     "collapsed": false,
     "input": [
      "def separate_weekday(data):\n",
      "    '''Setparate the exit data into weekdays and weekends.\n",
      "    num=number of days, count=exit count'''\n",
      "    weekday_weekend = {}\n",
      "    for key in data:\n",
      "        weekday_num = 0\n",
      "        weekend_num = 0\n",
      "        weekday_count = 0\n",
      "        weekend_count = 0\n",
      "        for night in data[key]:\n",
      "            if night[0].weekday() <= WEDNESDAY:\n",
      "                weekday_num += 1\n",
      "                weekday_count += night[1]\n",
      "            elif (night[0].weekday() == FRIDAY or \n",
      "                  night[0].weekday() == SATURDAY):\n",
      "                weekend_num += 1\n",
      "                weekend_count += night[1]\n",
      "        val = [(weekday_num, weekday_count), (weekend_num, weekend_count)]\n",
      "        weekday_weekend[key] = val\n",
      "    return weekday_weekend\n",
      "\n",
      "separate_weekday_weekend = separate_weekday(stations_only)"
     ],
     "language": "python",
     "metadata": {},
     "outputs": [],
     "prompt_number": 43
    },
    {
     "cell_type": "code",
     "collapsed": false,
     "input": [
      "separate_weekday_weekend['LEXINGTON AVE']"
     ],
     "language": "python",
     "metadata": {},
     "outputs": [
      {
       "metadata": {},
       "output_type": "pyout",
       "prompt_number": 44,
       "text": [
        "[(39, 73267), (26, 49909)]"
       ]
      }
     ],
     "prompt_number": 44
    },
    {
     "cell_type": "code",
     "collapsed": false,
     "input": [
      "#separate_weekday_weekend"
     ],
     "language": "python",
     "metadata": {},
     "outputs": [],
     "prompt_number": 46
    },
    {
     "cell_type": "code",
     "collapsed": false,
     "input": [
      "def weekend_mean(data, station):\n",
      "    '''Calculates the mean number of exits over \n",
      "    number of days for weekends for a given station'''\n",
      "    nums = data[station][1][0]\n",
      "    counts = data[station][1][1]\n",
      "    if nums != 0:\n",
      "        mean = counts / nums\n",
      "    else:\n",
      "        mean = 0\n",
      "    return mean"
     ],
     "language": "python",
     "metadata": {},
     "outputs": [],
     "prompt_number": 23
    },
    {
     "cell_type": "code",
     "collapsed": false,
     "input": [
      "weekend_mean(separate_weekday_weekend, 'LEXINGTON AVE')"
     ],
     "language": "python",
     "metadata": {},
     "outputs": [
      {
       "metadata": {},
       "output_type": "pyout",
       "prompt_number": 24,
       "text": [
        "1919.576923076923"
       ]
      }
     ],
     "prompt_number": 24
    },
    {
     "cell_type": "code",
     "collapsed": false,
     "input": [
      "def weekday_mean(data, station):\n",
      "    '''Calculates the mean number of exits over\n",
      "    number of days for weekdays for a given station'''\n",
      "    nums = data[station][0][0]\n",
      "    counts = data[station][0][1]\n",
      "    if nums != 0:\n",
      "        mean = counts / nums\n",
      "    else:\n",
      "        mean = 0\n",
      "    return mean"
     ],
     "language": "python",
     "metadata": {},
     "outputs": [],
     "prompt_number": 25
    },
    {
     "cell_type": "code",
     "collapsed": false,
     "input": [
      "weekday_mean(separate_weekday_weekend, 'LEXINGTON AVE')"
     ],
     "language": "python",
     "metadata": {},
     "outputs": [
      {
       "metadata": {},
       "output_type": "pyout",
       "prompt_number": 26,
       "text": [
        "1878.6410256410256"
       ]
      }
     ],
     "prompt_number": 26
    },
    {
     "cell_type": "code",
     "collapsed": false,
     "input": [
      "def weekend_means(data):\n",
      "    '''Calculates weekend means for all stations\n",
      "    in the given dictionary'''\n",
      "    mean_list = []\n",
      "    for key in data:\n",
      "        mean_list.append((key, weekend_mean(data, key)))\n",
      "    mean_list.sort(key=lambda x: x[1], reverse=True)\n",
      "    return mean_list "
     ],
     "language": "python",
     "metadata": {},
     "outputs": [],
     "prompt_number": 27
    },
    {
     "cell_type": "code",
     "collapsed": false,
     "input": [
      "weekend_means(separate_weekday_weekend)[:10]"
     ],
     "language": "python",
     "metadata": {},
     "outputs": [
      {
       "metadata": {},
       "output_type": "pyout",
       "prompt_number": 28,
       "text": [
        "[('34 ST-PENN STA', 14991.884615384615),\n",
        " ('42 ST-TIMES SQ', 12479.653846153846),\n",
        " ('34 ST-HERALD SQ', 11770.038461538461),\n",
        " ('86 ST', 11712.807692307691),\n",
        " ('125 ST', 10410.576923076924),\n",
        " ('ROOSEVELT AVE', 10134.23076923077),\n",
        " ('42 ST-PA BUS TE', 9835.115384615385),\n",
        " ('MAIN ST', 9617.923076923076),\n",
        " ('42 ST-GRD CNTRL', 9516.423076923076),\n",
        " ('145 ST', 9074.923076923076)]"
       ]
      }
     ],
     "prompt_number": 28
    },
    {
     "cell_type": "code",
     "collapsed": false,
     "input": [
      "def weekday_means(data):\n",
      "    '''Calculates weekday means for all stations\n",
      "    in the given dictionary'''\n",
      "    mean_list = []\n",
      "    for key in data:\n",
      "        mean_list.append((key, weekday_mean(data, key)))\n",
      "    mean_list.sort(key=lambda x: x[1], reverse=True)\n",
      "    return mean_list"
     ],
     "language": "python",
     "metadata": {},
     "outputs": [],
     "prompt_number": 47
    },
    {
     "cell_type": "code",
     "collapsed": false,
     "input": [
      "weekday_means(separate_weekday_weekend)[:10]"
     ],
     "language": "python",
     "metadata": {},
     "outputs": [
      {
       "metadata": {},
       "output_type": "pyout",
       "prompt_number": 30,
       "text": [
        "[('34 ST-PENN STA', 11701.435897435897),\n",
        " ('86 ST', 11543.692307692309),\n",
        " ('MAIN ST', 10560.28205128205),\n",
        " ('ROOSEVELT AVE', 9709.923076923076),\n",
        " ('34 ST-HERALD SQ', 9121.051282051281),\n",
        " ('125 ST', 8824.871794871795),\n",
        " ('42 ST-PA BUS TE', 8456.692307692309),\n",
        " ('145 ST', 8312.076923076924),\n",
        " ('42 ST-TIMES SQ', 8089.974358974359),\n",
        " ('42 ST-GRD CNTRL', 7464.358974358975)]"
       ]
      }
     ],
     "prompt_number": 30
    },
    {
     "cell_type": "code",
     "collapsed": false,
     "input": [
      "def weekend_minus_weekday(data):\n",
      "    '''Calculates the (weekend counts/weekend days) - (weekday counts/weekday days)'''\n",
      "    delta_list = []\n",
      "    for station in data:\n",
      "        wday_nums = data[station][0][0]\n",
      "        wday_counts = data[station][0][1]\n",
      "        \n",
      "        wend_nums = data[station][1][0]\n",
      "        wend_counts = data[station][1][1]\n",
      "        if wday_nums != 0 and wend_nums != 0:\n",
      "            delta_list.append((station, float(Fraction(wend_counts, wend_nums) - Fraction(wday_counts, wday_nums))))\n",
      "    \n",
      "    minus_list = sorted(delta_list, key=lambda x: x[1], reverse=True)\n",
      "    return minus_list"
     ],
     "language": "python",
     "metadata": {},
     "outputs": [],
     "prompt_number": 31
    },
    {
     "cell_type": "code",
     "collapsed": false,
     "input": [
      "weekend_minus_weekday(separate_weekday_weekend)[:10]"
     ],
     "language": "python",
     "metadata": {},
     "outputs": [
      {
       "metadata": {},
       "output_type": "pyout",
       "prompt_number": 32,
       "text": [
        "[('42 ST-TIMES SQ', 4389.679487179487),\n",
        " ('34 ST-PENN STA', 3290.448717948718),\n",
        " ('14 ST-UNION SQ', 2903.25641025641),\n",
        " ('34 ST-HERALD SQ', 2648.9871794871797),\n",
        " ('51 ST', 2419.427125506073),\n",
        " ('42 ST-GRD CNTRL', 2052.0641025641025),\n",
        " ('W 4 ST-WASH SQ', 1836.6153846153845),\n",
        " ('28 ST', 1606.3974358974358),\n",
        " ('125 ST', 1585.7051282051282),\n",
        " ('EAST BROADWAY', 1400.4054945054945)]"
       ]
      }
     ],
     "prompt_number": 32
    },
    {
     "cell_type": "code",
     "collapsed": false,
     "input": [
      "def weekend_over_weekday(data):\n",
      "    '''Calculates the (weekend counts/weekend days)/(weekday counts / weekday days)\n",
      "    would probably mean more if it used a threshold'''\n",
      "    delta_list = []\n",
      "    for station in data:\n",
      "        wday_nums = data[station][0][0]\n",
      "        wday_counts = data[station][0][1] \n",
      "        wend_nums = data[station][1][0]\n",
      "        wend_counts = data[station][1][1]\n",
      "        if wday_nums!= 0:\n",
      "            wday_mean = Fraction(wday_counts, wday_nums)\n",
      "            if wday_mean!= 0 and wend_nums != 0:\n",
      "                delta_list.append((station, float(Fraction(wend_counts, wend_nums) / wday_mean)))\n",
      "    delta_list.sort(key=lambda x: x[1], reverse=True)\n",
      "    return delta_list"
     ],
     "language": "python",
     "metadata": {},
     "outputs": [],
     "prompt_number": 33
    },
    {
     "cell_type": "code",
     "collapsed": false,
     "input": [
      "weekend_over_weekday(separate_weekday_weekend)[:10]"
     ],
     "language": "python",
     "metadata": {},
     "outputs": [
      {
       "metadata": {},
       "output_type": "pyout",
       "prompt_number": 34,
       "text": [
        "[('NEWARK C', 4.571808510638298),\n",
        " ('14TH STREET', 3.882518556437164),\n",
        " ('THIRTY THIRD ST', 2.973625025557146),\n",
        " ('51 ST', 2.79171420048001),\n",
        " ('9TH STREET', 2.713809671419715),\n",
        " ('NEREID AVE', 2.4776428802938635),\n",
        " ('163 ST-AMSTERDM', 2.3094585274773336),\n",
        " ('BUHRE AVE', 2.2376954192631464),\n",
        " ('METS-WILLETS PT', 2.2032132546755365),\n",
        " ('EAST BROADWAY', 2.1042714438717685)]"
       ]
      }
     ],
     "prompt_number": 34
    },
    {
     "cell_type": "code",
     "collapsed": false,
     "input": [
      "#Plot the weekend / weekday results\n",
      "\n",
      "percent_weekend = weekend_over_weekday(separate_weekday_weekend)[:20]\n",
      "\n",
      "stations = []\n",
      "pcts = []\n",
      "for pct_tup in percent_weekend:\n",
      "    stations.append(pct_tup[0])\n",
      "    pcts.append(pct_tup[1])\n",
      "\n",
      "plt.figure(figsize=(10,3))\n",
      "plt.title('Weekend / Weekday')\n",
      "plt.xticks(np.arange(len(stations)), stations, rotation=90)\n",
      "plt.scatter(range(len(stations)),pcts)\n",
      "plt.show()"
     ],
     "language": "python",
     "metadata": {},
     "outputs": [
      {
       "metadata": {},
       "output_type": "display_data",
       "png": "[encoded data removed]",
       "text": [
        "<matplotlib.figure.Figure at 0x7f7eb2996bd0>"
       ]
      }
     ],
     "prompt_number": 49
    },
    {
     "cell_type": "code",
     "collapsed": false,
     "input": [],
     "language": "python",
     "metadata": {},
     "outputs": []
    }
   ],
   "metadata": {}
  }
 ]
}